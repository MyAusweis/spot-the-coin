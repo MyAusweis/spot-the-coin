{
  "nbformat": 4,
  "nbformat_minor": 0,
  "metadata": {
    "colab": {
      "name": "bilinear_xception_model.ipynb",
      "provenance": [],
      "collapsed_sections": [],
      "toc_visible": true
    },
    "kernelspec": {
      "name": "python3",
      "display_name": "Python 3"
    },
    "accelerator": "GPU"
  },
  "cells": [
    {
      "cell_type": "markdown",
      "metadata": {
        "id": "Vev5DAYLK5OZ",
        "colab_type": "text"
      },
      "source": [
        "# **Bangkit Final Project: World Coin Classification**"
      ]
    },
    {
      "cell_type": "markdown",
      "metadata": {
        "id": "6aF2mIOQNC5o",
        "colab_type": "text"
      },
      "source": [
        "# **Dependencies**"
      ]
    },
    {
      "cell_type": "code",
      "metadata": {
        "id": "pu8dZbIdLrLy",
        "colab_type": "code",
        "colab": {}
      },
      "source": [
        "import tensorflow as tf\n",
        "import numpy as np\n",
        "import pandas as pd\n",
        "import matplotlib.pyplot as plt\n",
        "import json\n",
        "import zipfile\n",
        "\n",
        "from tensorflow.keras import backend\n",
        "from tensorflow.keras.models import Sequential, Model, model_from_json, load_model\n",
        "from tensorflow.keras.layers import Conv2D, MaxPooling2D, Flatten, Dense, Dropout, LeakyReLU\n",
        "from tensorflow.keras.layers import GlobalAveragePooling2D, Lambda, Reshape, concatenate\n",
        "from tensorflow.keras.applications import Xception\n",
        "from tensorflow.keras.optimizers import Adam, Nadam\n",
        "from tensorflow.keras.callbacks import ReduceLROnPlateau, EarlyStopping, ModelCheckpoint\n",
        "from tensorflow.keras.preprocessing.image import ImageDataGenerator, img_to_array, load_img\n",
        "from tensorflow.keras.regularizers import Regularizer, l2\n",
        "\n",
        "from google.colab import files, drive"
      ],
      "execution_count": null,
      "outputs": []
    },
    {
      "cell_type": "code",
      "metadata": {
        "id": "-0MskslwLsYt",
        "colab_type": "code",
        "colab": {
          "resources": {
            "http://localhost:8080/nbextensions/google.colab/files.js": {
              "data": "Ly8gQ29weXJpZ2h0IDIwMTcgR29vZ2xlIExMQwovLwovLyBMaWNlbnNlZCB1bmRlciB0aGUgQXBhY2hlIExpY2Vuc2UsIFZlcnNpb24gMi4wICh0aGUgIkxpY2Vuc2UiKTsKLy8geW91IG1heSBub3QgdXNlIHRoaXMgZmlsZSBleGNlcHQgaW4gY29tcGxpYW5jZSB3aXRoIHRoZSBMaWNlbnNlLgovLyBZb3UgbWF5IG9idGFpbiBhIGNvcHkgb2YgdGhlIExpY2Vuc2UgYXQKLy8KLy8gICAgICBodHRwOi8vd3d3LmFwYWNoZS5vcmcvbGljZW5zZXMvTElDRU5TRS0yLjAKLy8KLy8gVW5sZXNzIHJlcXVpcmVkIGJ5IGFwcGxpY2FibGUgbGF3IG9yIGFncmVlZCB0byBpbiB3cml0aW5nLCBzb2Z0d2FyZQovLyBkaXN0cmlidXRlZCB1bmRlciB0aGUgTGljZW5zZSBpcyBkaXN0cmlidXRlZCBvbiBhbiAiQVMgSVMiIEJBU0lTLAovLyBXSVRIT1VUIFdBUlJBTlRJRVMgT1IgQ09ORElUSU9OUyBPRiBBTlkgS0lORCwgZWl0aGVyIGV4cHJlc3Mgb3IgaW1wbGllZC4KLy8gU2VlIHRoZSBMaWNlbnNlIGZvciB0aGUgc3BlY2lmaWMgbGFuZ3VhZ2UgZ292ZXJuaW5nIHBlcm1pc3Npb25zIGFuZAovLyBsaW1pdGF0aW9ucyB1bmRlciB0aGUgTGljZW5zZS4KCi8qKgogKiBAZmlsZW92ZXJ2aWV3IEhlbHBlcnMgZm9yIGdvb2dsZS5jb2xhYiBQeXRob24gbW9kdWxlLgogKi8KKGZ1bmN0aW9uKHNjb3BlKSB7CmZ1bmN0aW9uIHNwYW4odGV4dCwgc3R5bGVBdHRyaWJ1dGVzID0ge30pIHsKICBjb25zdCBlbGVtZW50ID0gZG9jdW1lbnQuY3JlYXRlRWxlbWVudCgnc3BhbicpOwogIGVsZW1lbnQudGV4dENvbnRlbnQgPSB0ZXh0OwogIGZvciAoY29uc3Qga2V5IG9mIE9iamVjdC5rZXlzKHN0eWxlQXR0cmlidXRlcykpIHsKICAgIGVsZW1lbnQuc3R5bGVba2V5XSA9IHN0eWxlQXR0cmlidXRlc1trZXldOwogIH0KICByZXR1cm4gZWxlbWVudDsKfQoKLy8gTWF4IG51bWJlciBvZiBieXRlcyB3aGljaCB3aWxsIGJlIHVwbG9hZGVkIGF0IGEgdGltZS4KY29uc3QgTUFYX1BBWUxPQURfU0laRSA9IDEwMCAqIDEwMjQ7Ci8vIE1heCBhbW91bnQgb2YgdGltZSB0byBibG9jayB3YWl0aW5nIGZvciB0aGUgdXNlci4KY29uc3QgRklMRV9DSEFOR0VfVElNRU9VVF9NUyA9IDMwICogMTAwMDsKCmZ1bmN0aW9uIF91cGxvYWRGaWxlcyhpbnB1dElkLCBvdXRwdXRJZCkgewogIGNvbnN0IHN0ZXBzID0gdXBsb2FkRmlsZXNTdGVwKGlucHV0SWQsIG91dHB1dElkKTsKICBjb25zdCBvdXRwdXRFbGVtZW50ID0gZG9jdW1lbnQuZ2V0RWxlbWVudEJ5SWQob3V0cHV0SWQpOwogIC8vIENhY2hlIHN0ZXBzIG9uIHRoZSBvdXRwdXRFbGVtZW50IHRvIG1ha2UgaXQgYXZhaWxhYmxlIGZvciB0aGUgbmV4dCBjYWxsCiAgLy8gdG8gdXBsb2FkRmlsZXNDb250aW51ZSBmcm9tIFB5dGhvbi4KICBvdXRwdXRFbGVtZW50LnN0ZXBzID0gc3RlcHM7CgogIHJldHVybiBfdXBsb2FkRmlsZXNDb250aW51ZShvdXRwdXRJZCk7Cn0KCi8vIFRoaXMgaXMgcm91Z2hseSBhbiBhc3luYyBnZW5lcmF0b3IgKG5vdCBzdXBwb3J0ZWQgaW4gdGhlIGJyb3dzZXIgeWV0KSwKLy8gd2hlcmUgdGhlcmUgYXJlIG11bHRpcGxlIGFzeW5jaHJvbm91cyBzdGVwcyBhbmQgdGhlIFB5dGhvbiBzaWRlIGlzIGdvaW5nCi8vIHRvIHBvbGwgZm9yIGNvbXBsZXRpb24gb2YgZWFjaCBzdGVwLgovLyBUaGlzIHVzZXMgYSBQcm9taXNlIHRvIGJsb2NrIHRoZSBweXRob24gc2lkZSBvbiBjb21wbGV0aW9uIG9mIGVhY2ggc3RlcCwKLy8gdGhlbiBwYXNzZXMgdGhlIHJlc3VsdCBvZiB0aGUgcHJldmlvdXMgc3RlcCBhcyB0aGUgaW5wdXQgdG8gdGhlIG5leHQgc3RlcC4KZnVuY3Rpb24gX3VwbG9hZEZpbGVzQ29udGludWUob3V0cHV0SWQpIHsKICBjb25zdCBvdXRwdXRFbGVtZW50ID0gZG9jdW1lbnQuZ2V0RWxlbWVudEJ5SWQob3V0cHV0SWQpOwogIGNvbnN0IHN0ZXBzID0gb3V0cHV0RWxlbWVudC5zdGVwczsKCiAgY29uc3QgbmV4dCA9IHN0ZXBzLm5leHQob3V0cHV0RWxlbWVudC5sYXN0UHJvbWlzZVZhbHVlKTsKICByZXR1cm4gUHJvbWlzZS5yZXNvbHZlKG5leHQudmFsdWUucHJvbWlzZSkudGhlbigodmFsdWUpID0+IHsKICAgIC8vIENhY2hlIHRoZSBsYXN0IHByb21pc2UgdmFsdWUgdG8gbWFrZSBpdCBhdmFpbGFibGUgdG8gdGhlIG5leHQKICAgIC8vIHN0ZXAgb2YgdGhlIGdlbmVyYXRvci4KICAgIG91dHB1dEVsZW1lbnQubGFzdFByb21pc2VWYWx1ZSA9IHZhbHVlOwogICAgcmV0dXJuIG5leHQudmFsdWUucmVzcG9uc2U7CiAgfSk7Cn0KCi8qKgogKiBHZW5lcmF0b3IgZnVuY3Rpb24gd2hpY2ggaXMgY2FsbGVkIGJldHdlZW4gZWFjaCBhc3luYyBzdGVwIG9mIHRoZSB1cGxvYWQKICogcHJvY2Vzcy4KICogQHBhcmFtIHtzdHJpbmd9IGlucHV0SWQgRWxlbWVudCBJRCBvZiB0aGUgaW5wdXQgZmlsZSBwaWNrZXIgZWxlbWVudC4KICogQHBhcmFtIHtzdHJpbmd9IG91dHB1dElkIEVsZW1lbnQgSUQgb2YgdGhlIG91dHB1dCBkaXNwbGF5LgogKiBAcmV0dXJuIHshSXRlcmFibGU8IU9iamVjdD59IEl0ZXJhYmxlIG9mIG5leHQgc3RlcHMuCiAqLwpmdW5jdGlvbiogdXBsb2FkRmlsZXNTdGVwKGlucHV0SWQsIG91dHB1dElkKSB7CiAgY29uc3QgaW5wdXRFbGVtZW50ID0gZG9jdW1lbnQuZ2V0RWxlbWVudEJ5SWQoaW5wdXRJZCk7CiAgaW5wdXRFbGVtZW50LmRpc2FibGVkID0gZmFsc2U7CgogIGNvbnN0IG91dHB1dEVsZW1lbnQgPSBkb2N1bWVudC5nZXRFbGVtZW50QnlJZChvdXRwdXRJZCk7CiAgb3V0cHV0RWxlbWVudC5pbm5lckhUTUwgPSAnJzsKCiAgY29uc3QgcGlja2VkUHJvbWlzZSA9IG5ldyBQcm9taXNlKChyZXNvbHZlKSA9PiB7CiAgICBpbnB1dEVsZW1lbnQuYWRkRXZlbnRMaXN0ZW5lcignY2hhbmdlJywgKGUpID0+IHsKICAgICAgcmVzb2x2ZShlLnRhcmdldC5maWxlcyk7CiAgICB9KTsKICB9KTsKCiAgY29uc3QgY2FuY2VsID0gZG9jdW1lbnQuY3JlYXRlRWxlbWVudCgnYnV0dG9uJyk7CiAgaW5wdXRFbGVtZW50LnBhcmVudEVsZW1lbnQuYXBwZW5kQ2hpbGQoY2FuY2VsKTsKICBjYW5jZWwudGV4dENvbnRlbnQgPSAnQ2FuY2VsIHVwbG9hZCc7CiAgY29uc3QgY2FuY2VsUHJvbWlzZSA9IG5ldyBQcm9taXNlKChyZXNvbHZlKSA9PiB7CiAgICBjYW5jZWwub25jbGljayA9ICgpID0+IHsKICAgICAgcmVzb2x2ZShudWxsKTsKICAgIH07CiAgfSk7CgogIC8vIENhbmNlbCB1cGxvYWQgaWYgdXNlciBoYXNuJ3QgcGlja2VkIGFueXRoaW5nIGluIHRpbWVvdXQuCiAgY29uc3QgdGltZW91dFByb21pc2UgPSBuZXcgUHJvbWlzZSgocmVzb2x2ZSkgPT4gewogICAgc2V0VGltZW91dCgoKSA9PiB7CiAgICAgIHJlc29sdmUobnVsbCk7CiAgICB9LCBGSUxFX0NIQU5HRV9USU1FT1VUX01TKTsKICB9KTsKCiAgLy8gV2FpdCBmb3IgdGhlIHVzZXIgdG8gcGljayB0aGUgZmlsZXMuCiAgY29uc3QgZmlsZXMgPSB5aWVsZCB7CiAgICBwcm9taXNlOiBQcm9taXNlLnJhY2UoW3BpY2tlZFByb21pc2UsIHRpbWVvdXRQcm9taXNlLCBjYW5jZWxQcm9taXNlXSksCiAgICByZXNwb25zZTogewogICAgICBhY3Rpb246ICdzdGFydGluZycsCiAgICB9CiAgfTsKCiAgaWYgKCFmaWxlcykgewogICAgcmV0dXJuIHsKICAgICAgcmVzcG9uc2U6IHsKICAgICAgICBhY3Rpb246ICdjb21wbGV0ZScsCiAgICAgIH0KICAgIH07CiAgfQoKICBjYW5jZWwucmVtb3ZlKCk7CgogIC8vIERpc2FibGUgdGhlIGlucHV0IGVsZW1lbnQgc2luY2UgZnVydGhlciBwaWNrcyBhcmUgbm90IGFsbG93ZWQuCiAgaW5wdXRFbGVtZW50LmRpc2FibGVkID0gdHJ1ZTsKCiAgZm9yIChjb25zdCBmaWxlIG9mIGZpbGVzKSB7CiAgICBjb25zdCBsaSA9IGRvY3VtZW50LmNyZWF0ZUVsZW1lbnQoJ2xpJyk7CiAgICBsaS5hcHBlbmQoc3BhbihmaWxlLm5hbWUsIHtmb250V2VpZ2h0OiAnYm9sZCd9KSk7CiAgICBsaS5hcHBlbmQoc3BhbigKICAgICAgICBgKCR7ZmlsZS50eXBlIHx8ICduL2EnfSkgLSAke2ZpbGUuc2l6ZX0gYnl0ZXMsIGAgKwogICAgICAgIGBsYXN0IG1vZGlmaWVkOiAkewogICAgICAgICAgICBmaWxlLmxhc3RNb2RpZmllZERhdGUgPyBmaWxlLmxhc3RNb2RpZmllZERhdGUudG9Mb2NhbGVEYXRlU3RyaW5nKCkgOgogICAgICAgICAgICAgICAgICAgICAgICAgICAgICAgICAgICAnbi9hJ30gLSBgKSk7CiAgICBjb25zdCBwZXJjZW50ID0gc3BhbignMCUgZG9uZScpOwogICAgbGkuYXBwZW5kQ2hpbGQocGVyY2VudCk7CgogICAgb3V0cHV0RWxlbWVudC5hcHBlbmRDaGlsZChsaSk7CgogICAgY29uc3QgZmlsZURhdGFQcm9taXNlID0gbmV3IFByb21pc2UoKHJlc29sdmUpID0+IHsKICAgICAgY29uc3QgcmVhZGVyID0gbmV3IEZpbGVSZWFkZXIoKTsKICAgICAgcmVhZGVyLm9ubG9hZCA9IChlKSA9PiB7CiAgICAgICAgcmVzb2x2ZShlLnRhcmdldC5yZXN1bHQpOwogICAgICB9OwogICAgICByZWFkZXIucmVhZEFzQXJyYXlCdWZmZXIoZmlsZSk7CiAgICB9KTsKICAgIC8vIFdhaXQgZm9yIHRoZSBkYXRhIHRvIGJlIHJlYWR5LgogICAgbGV0IGZpbGVEYXRhID0geWllbGQgewogICAgICBwcm9taXNlOiBmaWxlRGF0YVByb21pc2UsCiAgICAgIHJlc3BvbnNlOiB7CiAgICAgICAgYWN0aW9uOiAnY29udGludWUnLAogICAgICB9CiAgICB9OwoKICAgIC8vIFVzZSBhIGNodW5rZWQgc2VuZGluZyB0byBhdm9pZCBtZXNzYWdlIHNpemUgbGltaXRzLiBTZWUgYi82MjExNTY2MC4KICAgIGxldCBwb3NpdGlvbiA9IDA7CiAgICB3aGlsZSAocG9zaXRpb24gPCBmaWxlRGF0YS5ieXRlTGVuZ3RoKSB7CiAgICAgIGNvbnN0IGxlbmd0aCA9IE1hdGgubWluKGZpbGVEYXRhLmJ5dGVMZW5ndGggLSBwb3NpdGlvbiwgTUFYX1BBWUxPQURfU0laRSk7CiAgICAgIGNvbnN0IGNodW5rID0gbmV3IFVpbnQ4QXJyYXkoZmlsZURhdGEsIHBvc2l0aW9uLCBsZW5ndGgpOwogICAgICBwb3NpdGlvbiArPSBsZW5ndGg7CgogICAgICBjb25zdCBiYXNlNjQgPSBidG9hKFN0cmluZy5mcm9tQ2hhckNvZGUuYXBwbHkobnVsbCwgY2h1bmspKTsKICAgICAgeWllbGQgewogICAgICAgIHJlc3BvbnNlOiB7CiAgICAgICAgICBhY3Rpb246ICdhcHBlbmQnLAogICAgICAgICAgZmlsZTogZmlsZS5uYW1lLAogICAgICAgICAgZGF0YTogYmFzZTY0LAogICAgICAgIH0sCiAgICAgIH07CiAgICAgIHBlcmNlbnQudGV4dENvbnRlbnQgPQogICAgICAgICAgYCR7TWF0aC5yb3VuZCgocG9zaXRpb24gLyBmaWxlRGF0YS5ieXRlTGVuZ3RoKSAqIDEwMCl9JSBkb25lYDsKICAgIH0KICB9CgogIC8vIEFsbCBkb25lLgogIHlpZWxkIHsKICAgIHJlc3BvbnNlOiB7CiAgICAgIGFjdGlvbjogJ2NvbXBsZXRlJywKICAgIH0KICB9Owp9CgpzY29wZS5nb29nbGUgPSBzY29wZS5nb29nbGUgfHwge307CnNjb3BlLmdvb2dsZS5jb2xhYiA9IHNjb3BlLmdvb2dsZS5jb2xhYiB8fCB7fTsKc2NvcGUuZ29vZ2xlLmNvbGFiLl9maWxlcyA9IHsKICBfdXBsb2FkRmlsZXMsCiAgX3VwbG9hZEZpbGVzQ29udGludWUsCn07Cn0pKHNlbGYpOwo=",
              "ok": true,
              "headers": [
                [
                  "content-type",
                  "application/javascript"
                ]
              ],
              "status": 200,
              "status_text": ""
            }
          },
          "base_uri": "https://localhost:8080/",
          "height": 74
        },
        "outputId": "eefedc71-48ee-4232-e231-4347345f1c0f"
      },
      "source": [
        "# Upload the kaggle.json file from Kaggle account settings page\n",
        "uploaded = files.upload()"
      ],
      "execution_count": null,
      "outputs": [
        {
          "output_type": "display_data",
          "data": {
            "text/html": [
              "\n",
              "     <input type=\"file\" id=\"files-f19a13dd-5126-4693-ac4d-f41ee0e6707e\" name=\"files[]\" multiple disabled />\n",
              "     <output id=\"result-f19a13dd-5126-4693-ac4d-f41ee0e6707e\">\n",
              "      Upload widget is only available when the cell has been executed in the\n",
              "      current browser session. Please rerun this cell to enable.\n",
              "      </output>\n",
              "      <script src=\"/nbextensions/google.colab/files.js\"></script> "
            ],
            "text/plain": [
              "<IPython.core.display.HTML object>"
            ]
          },
          "metadata": {
            "tags": []
          }
        },
        {
          "output_type": "stream",
          "text": [
            "Saving kaggle.json to kaggle.json\n"
          ],
          "name": "stdout"
        }
      ]
    },
    {
      "cell_type": "code",
      "metadata": {
        "id": "YH-mZ_XHMezh",
        "colab_type": "code",
        "colab": {}
      },
      "source": [
        "# Install the Kaggle API client\n",
        "!pip install -q kaggle"
      ],
      "execution_count": null,
      "outputs": []
    },
    {
      "cell_type": "code",
      "metadata": {
        "id": "GdSwixL0MUxw",
        "colab_type": "code",
        "colab": {}
      },
      "source": [
        "# The Kaggle API client expects this file to be in ~/.kaggle\n",
        "!mkdir -p ~/.kaggle\n",
        "!cp kaggle.json ~/.kaggle/\n",
        "\n",
        "# This permissions change avoids a warning on Kaggle tool startup\n",
        "!chmod 600 ~/.kaggle/kaggle.json"
      ],
      "execution_count": null,
      "outputs": []
    },
    {
      "cell_type": "markdown",
      "metadata": {
        "id": "qo_rjYl-NU0_",
        "colab_type": "text"
      },
      "source": [
        "# **Importing Dataset**"
      ]
    },
    {
      "cell_type": "code",
      "metadata": {
        "id": "PS2VsR0CNg0G",
        "colab_type": "code",
        "colab": {
          "base_uri": "https://localhost:8080/",
          "height": 68
        },
        "outputId": "7071e202-9228-4916-b035-b80eb8289f56"
      },
      "source": [
        "# Download the dataset\n",
        "!kaggle datasets download -d wanderdust/coin-images"
      ],
      "execution_count": null,
      "outputs": [
        {
          "output_type": "stream",
          "text": [
            "Downloading coin-images.zip to /content\n",
            " 98% 449M/459M [00:08<00:00, 57.2MB/s]\n",
            "100% 459M/459M [00:08<00:00, 54.4MB/s]\n"
          ],
          "name": "stdout"
        }
      ]
    },
    {
      "cell_type": "code",
      "metadata": {
        "id": "TN_bT4N7OopU",
        "colab_type": "code",
        "colab": {}
      },
      "source": [
        "# If kaggle is down, mount from drive\n",
        "try:\n",
        "    coin_file = open('/content/coin-images.zip', 'r')\n",
        "    filepath = '/content/coin-images.zip'\n",
        "except FileNotFoundError:\n",
        "    drive.mount('/content/drive')\n",
        "    filepath = '/content/drive/My Drive/Bangkit project/Dataset/coin-images.zip'\n",
        "\n",
        "# Unzip the dataset into folder\n",
        "zip_ref = zipfile.ZipFile(filepath, 'r')\n",
        "zip_ref.extractall('/content/')\n",
        "zip_ref.close()"
      ],
      "execution_count": null,
      "outputs": []
    },
    {
      "cell_type": "markdown",
      "metadata": {
        "id": "Rt2d5YlhRQpK",
        "colab_type": "text"
      },
      "source": [
        "# **Data Preparation**"
      ]
    },
    {
      "cell_type": "code",
      "metadata": {
        "id": "rGaQrJvGRTG_",
        "colab_type": "code",
        "colab": {}
      },
      "source": [
        "# Define directories\n",
        "data_dir = \"/content/coins/data/\"\n",
        "\n",
        "train_dir = data_dir + \"train/\"\n",
        "validation_dir = data_dir + \"validation/\"\n",
        "test_dir = data_dir + \"test/\""
      ],
      "execution_count": null,
      "outputs": []
    },
    {
      "cell_type": "code",
      "metadata": {
        "id": "OZoeHe2hJ-SF",
        "colab_type": "code",
        "colab": {}
      },
      "source": [
        "# Create generators\n",
        "train_datagen = ImageDataGenerator(\n",
        "      rescale=1./255,\n",
        "      rotation_range=360,\n",
        "      width_shift_range=0.2,\n",
        "      height_shift_range=0.2,\n",
        "      shear_range=0.2,\n",
        "      zoom_range=0.2,\n",
        "      brightness_range=[0.8,1.2],\n",
        "      horizontal_flip=False,\n",
        "      vertical_flip=False,\n",
        "      featurewise_std_normalization=False,\n",
        "      featurewise_center=False,\n",
        "      samplewise_std_normalization=False,\n",
        "      samplewise_center=False,\n",
        "      fill_mode='nearest'\n",
        ")\n",
        "\n",
        "validation_datagen = ImageDataGenerator(\n",
        "      rescale=1./255,\n",
        "      rotation_range=360,\n",
        "      width_shift_range=0.2,\n",
        "      height_shift_range=0.2,\n",
        "      shear_range=0.2,\n",
        "      zoom_range=0.2,\n",
        "      brightness_range=[0.8,1.2],\n",
        "      horizontal_flip=False,\n",
        "      vertical_flip=False,\n",
        "      featurewise_std_normalization=False,\n",
        "      featurewise_center=False,\n",
        "      samplewise_std_normalization=False,\n",
        "      samplewise_center=False,\n",
        "      fill_mode='nearest'\n",
        ")\n",
        "\n",
        "test_datagen = ImageDataGenerator(\n",
        "      rescale=1./255,\n",
        "      featurewise_std_normalization=False,\n",
        "      featurewise_center=False,\n",
        "      samplewise_std_normalization=False,\n",
        "      samplewise_center=False\n",
        ")"
      ],
      "execution_count": null,
      "outputs": []
    },
    {
      "cell_type": "code",
      "metadata": {
        "id": "n0BDiwC6MJcE",
        "colab_type": "code",
        "colab": {
          "base_uri": "https://localhost:8080/",
          "height": 68
        },
        "outputId": "3a391630-377f-4ea4-9f2b-cc1ebcab9adf"
      },
      "source": [
        "# Read images from generators\n",
        "batch_size = 32\n",
        "image_width = 299\n",
        "image_height = 299\n",
        "\n",
        "train_generator = train_datagen.flow_from_directory(\n",
        "      train_dir,\n",
        "      target_size=(image_width, image_height),\n",
        "      class_mode=\"categorical\",\n",
        "      batch_size=batch_size\n",
        ")\n",
        "\n",
        "validation_generator = validation_datagen.flow_from_directory(\n",
        "      validation_dir,\n",
        "      target_size=(image_width, image_height),\n",
        "      class_mode=\"categorical\",\n",
        "      batch_size=batch_size\n",
        ")\n",
        "\n",
        "test_generator = test_datagen.flow_from_directory(\n",
        "      test_dir,\n",
        "      target_size=(image_width, image_height),\n",
        "      class_mode=\"categorical\",\n",
        "      batch_size=1\n",
        ")"
      ],
      "execution_count": null,
      "outputs": [
        {
          "output_type": "stream",
          "text": [
            "Found 6413 images belonging to 211 classes.\n",
            "Found 844 images belonging to 211 classes.\n",
            "Found 844 images belonging to 211 classes.\n"
          ],
          "name": "stdout"
        }
      ]
    },
    {
      "cell_type": "markdown",
      "metadata": {
        "id": "s9QD8ft22wk_",
        "colab_type": "text"
      },
      "source": [
        "# **Model**"
      ]
    },
    {
      "cell_type": "code",
      "metadata": {
        "id": "xX1T4tt0OrhX",
        "colab_type": "code",
        "colab": {
          "base_uri": "https://localhost:8080/",
          "height": 1000
        },
        "outputId": "6d20ddb2-475c-4d18-aaa0-daebb75baf59"
      },
      "source": [
        "# Load base model\n",
        "base_model = Xception(\n",
        "    input_shape=(image_width, image_height, 3),\n",
        "    weights='imagenet',\n",
        "    include_top=False\n",
        ")\n",
        "\n",
        "for layer in base_model.layers:\n",
        "    layer.trainable = True\n",
        "\n",
        "    # Add regularizer\n",
        "    l2_layer = l2(0.01)\n",
        "    if hasattr(layer, 'kernel'):\n",
        "        base_model.add_loss(lambda layer=layer: l2_layer(layer.kernel))\n",
        "\n",
        "for layer in base_model.layers[:10]:\n",
        "\t\tlayer.trainable = False\n",
        "\n",
        "x = base_model.output\n",
        "# Reduce dimension\n",
        "x = Conv2D(128, (1,1), activation='relu')(x)\n",
        "\n",
        "# Bilinear pooling\n",
        "\n",
        "# Reshape to (minibatch_size, total_pixels, filter_size)\n",
        "x_detector, shape_detector = x, x.shape\n",
        "x_detector = Reshape([shape_detector[1] * shape_detector[2], shape_detector[-1]])(x_detector)\n",
        "x_extractor, shape_extractor = x, x.shape\n",
        "x_extractor = Reshape([shape_extractor[1] * shape_extractor[2], shape_extractor[-1]])(x_extractor)\n",
        "\n",
        "# Outer product\n",
        "def outer_product(x):\n",
        "    return backend.batch_dot(x[0], x[1], axes=[1,1]) / x[0].get_shape().as_list()[1]\n",
        "x = Lambda(outer_product)([x_detector, x_extractor])\n",
        "\n",
        "# Reshape to (minibatch_size, filter_size_detector*filter_size_extractor)\n",
        "x = Reshape([shape_detector[-1]*shape_extractor[-1]])(x)\n",
        "\n",
        "# Signed square root\n",
        "def signed_sqrt(x):\n",
        "    return backend.sign(x) * backend.sqrt(backend.abs(x)+1e-9)\n",
        "x = Lambda(signed_sqrt)(x)\n",
        "\n",
        "# L2 normalisation\n",
        "def L2_norm(x, axis=-1):\n",
        "    return backend.l2_normalize(x, axis=axis)\n",
        "x = Lambda(L2_norm)(x)\n",
        "\n",
        "x = Dense(2048, activation='relu')(x)\n",
        "x = Dense(512, activation='relu')(x)\n",
        "x = Dropout(0.4)(x)\n",
        "predictions = Dense(211, activation='softmax')(x)\n",
        "\n",
        "model = Model(inputs=base_model.inputs, outputs=predictions)\n",
        "\n",
        "model.summary()"
      ],
      "execution_count": null,
      "outputs": [
        {
          "output_type": "stream",
          "text": [
            "Downloading data from https://storage.googleapis.com/tensorflow/keras-applications/xception/xception_weights_tf_dim_ordering_tf_kernels_notop.h5\n",
            "83689472/83683744 [==============================] - 4s 0us/step\n",
            "Model: \"model\"\n",
            "__________________________________________________________________________________________________\n",
            "Layer (type)                    Output Shape         Param #     Connected to                     \n",
            "==================================================================================================\n",
            "input_1 (InputLayer)            [(None, 299, 299, 3) 0                                            \n",
            "__________________________________________________________________________________________________\n",
            "block1_conv1 (Conv2D)           (None, 149, 149, 32) 864         input_1[0][0]                    \n",
            "__________________________________________________________________________________________________\n",
            "block1_conv1_bn (BatchNormaliza (None, 149, 149, 32) 128         block1_conv1[0][0]               \n",
            "__________________________________________________________________________________________________\n",
            "block1_conv1_act (Activation)   (None, 149, 149, 32) 0           block1_conv1_bn[0][0]            \n",
            "__________________________________________________________________________________________________\n",
            "block1_conv2 (Conv2D)           (None, 147, 147, 64) 18432       block1_conv1_act[0][0]           \n",
            "__________________________________________________________________________________________________\n",
            "block1_conv2_bn (BatchNormaliza (None, 147, 147, 64) 256         block1_conv2[0][0]               \n",
            "__________________________________________________________________________________________________\n",
            "block1_conv2_act (Activation)   (None, 147, 147, 64) 0           block1_conv2_bn[0][0]            \n",
            "__________________________________________________________________________________________________\n",
            "block2_sepconv1 (SeparableConv2 (None, 147, 147, 128 8768        block1_conv2_act[0][0]           \n",
            "__________________________________________________________________________________________________\n",
            "block2_sepconv1_bn (BatchNormal (None, 147, 147, 128 512         block2_sepconv1[0][0]            \n",
            "__________________________________________________________________________________________________\n",
            "block2_sepconv2_act (Activation (None, 147, 147, 128 0           block2_sepconv1_bn[0][0]         \n",
            "__________________________________________________________________________________________________\n",
            "block2_sepconv2 (SeparableConv2 (None, 147, 147, 128 17536       block2_sepconv2_act[0][0]        \n",
            "__________________________________________________________________________________________________\n",
            "block2_sepconv2_bn (BatchNormal (None, 147, 147, 128 512         block2_sepconv2[0][0]            \n",
            "__________________________________________________________________________________________________\n",
            "conv2d (Conv2D)                 (None, 74, 74, 128)  8192        block1_conv2_act[0][0]           \n",
            "__________________________________________________________________________________________________\n",
            "block2_pool (MaxPooling2D)      (None, 74, 74, 128)  0           block2_sepconv2_bn[0][0]         \n",
            "__________________________________________________________________________________________________\n",
            "batch_normalization (BatchNorma (None, 74, 74, 128)  512         conv2d[0][0]                     \n",
            "__________________________________________________________________________________________________\n",
            "add (Add)                       (None, 74, 74, 128)  0           block2_pool[0][0]                \n",
            "                                                                 batch_normalization[0][0]        \n",
            "__________________________________________________________________________________________________\n",
            "block3_sepconv1_act (Activation (None, 74, 74, 128)  0           add[0][0]                        \n",
            "__________________________________________________________________________________________________\n",
            "block3_sepconv1 (SeparableConv2 (None, 74, 74, 256)  33920       block3_sepconv1_act[0][0]        \n",
            "__________________________________________________________________________________________________\n",
            "block3_sepconv1_bn (BatchNormal (None, 74, 74, 256)  1024        block3_sepconv1[0][0]            \n",
            "__________________________________________________________________________________________________\n",
            "block3_sepconv2_act (Activation (None, 74, 74, 256)  0           block3_sepconv1_bn[0][0]         \n",
            "__________________________________________________________________________________________________\n",
            "block3_sepconv2 (SeparableConv2 (None, 74, 74, 256)  67840       block3_sepconv2_act[0][0]        \n",
            "__________________________________________________________________________________________________\n",
            "block3_sepconv2_bn (BatchNormal (None, 74, 74, 256)  1024        block3_sepconv2[0][0]            \n",
            "__________________________________________________________________________________________________\n",
            "conv2d_1 (Conv2D)               (None, 37, 37, 256)  32768       add[0][0]                        \n",
            "__________________________________________________________________________________________________\n",
            "block3_pool (MaxPooling2D)      (None, 37, 37, 256)  0           block3_sepconv2_bn[0][0]         \n",
            "__________________________________________________________________________________________________\n",
            "batch_normalization_1 (BatchNor (None, 37, 37, 256)  1024        conv2d_1[0][0]                   \n",
            "__________________________________________________________________________________________________\n",
            "add_1 (Add)                     (None, 37, 37, 256)  0           block3_pool[0][0]                \n",
            "                                                                 batch_normalization_1[0][0]      \n",
            "__________________________________________________________________________________________________\n",
            "block4_sepconv1_act (Activation (None, 37, 37, 256)  0           add_1[0][0]                      \n",
            "__________________________________________________________________________________________________\n",
            "block4_sepconv1 (SeparableConv2 (None, 37, 37, 728)  188672      block4_sepconv1_act[0][0]        \n",
            "__________________________________________________________________________________________________\n",
            "block4_sepconv1_bn (BatchNormal (None, 37, 37, 728)  2912        block4_sepconv1[0][0]            \n",
            "__________________________________________________________________________________________________\n",
            "block4_sepconv2_act (Activation (None, 37, 37, 728)  0           block4_sepconv1_bn[0][0]         \n",
            "__________________________________________________________________________________________________\n",
            "block4_sepconv2 (SeparableConv2 (None, 37, 37, 728)  536536      block4_sepconv2_act[0][0]        \n",
            "__________________________________________________________________________________________________\n",
            "block4_sepconv2_bn (BatchNormal (None, 37, 37, 728)  2912        block4_sepconv2[0][0]            \n",
            "__________________________________________________________________________________________________\n",
            "conv2d_2 (Conv2D)               (None, 19, 19, 728)  186368      add_1[0][0]                      \n",
            "__________________________________________________________________________________________________\n",
            "block4_pool (MaxPooling2D)      (None, 19, 19, 728)  0           block4_sepconv2_bn[0][0]         \n",
            "__________________________________________________________________________________________________\n",
            "batch_normalization_2 (BatchNor (None, 19, 19, 728)  2912        conv2d_2[0][0]                   \n",
            "__________________________________________________________________________________________________\n",
            "add_2 (Add)                     (None, 19, 19, 728)  0           block4_pool[0][0]                \n",
            "                                                                 batch_normalization_2[0][0]      \n",
            "__________________________________________________________________________________________________\n",
            "block5_sepconv1_act (Activation (None, 19, 19, 728)  0           add_2[0][0]                      \n",
            "__________________________________________________________________________________________________\n",
            "block5_sepconv1 (SeparableConv2 (None, 19, 19, 728)  536536      block5_sepconv1_act[0][0]        \n",
            "__________________________________________________________________________________________________\n",
            "block5_sepconv1_bn (BatchNormal (None, 19, 19, 728)  2912        block5_sepconv1[0][0]            \n",
            "__________________________________________________________________________________________________\n",
            "block5_sepconv2_act (Activation (None, 19, 19, 728)  0           block5_sepconv1_bn[0][0]         \n",
            "__________________________________________________________________________________________________\n",
            "block5_sepconv2 (SeparableConv2 (None, 19, 19, 728)  536536      block5_sepconv2_act[0][0]        \n",
            "__________________________________________________________________________________________________\n",
            "block5_sepconv2_bn (BatchNormal (None, 19, 19, 728)  2912        block5_sepconv2[0][0]            \n",
            "__________________________________________________________________________________________________\n",
            "block5_sepconv3_act (Activation (None, 19, 19, 728)  0           block5_sepconv2_bn[0][0]         \n",
            "__________________________________________________________________________________________________\n",
            "block5_sepconv3 (SeparableConv2 (None, 19, 19, 728)  536536      block5_sepconv3_act[0][0]        \n",
            "__________________________________________________________________________________________________\n",
            "block5_sepconv3_bn (BatchNormal (None, 19, 19, 728)  2912        block5_sepconv3[0][0]            \n",
            "__________________________________________________________________________________________________\n",
            "add_3 (Add)                     (None, 19, 19, 728)  0           block5_sepconv3_bn[0][0]         \n",
            "                                                                 add_2[0][0]                      \n",
            "__________________________________________________________________________________________________\n",
            "block6_sepconv1_act (Activation (None, 19, 19, 728)  0           add_3[0][0]                      \n",
            "__________________________________________________________________________________________________\n",
            "block6_sepconv1 (SeparableConv2 (None, 19, 19, 728)  536536      block6_sepconv1_act[0][0]        \n",
            "__________________________________________________________________________________________________\n",
            "block6_sepconv1_bn (BatchNormal (None, 19, 19, 728)  2912        block6_sepconv1[0][0]            \n",
            "__________________________________________________________________________________________________\n",
            "block6_sepconv2_act (Activation (None, 19, 19, 728)  0           block6_sepconv1_bn[0][0]         \n",
            "__________________________________________________________________________________________________\n",
            "block6_sepconv2 (SeparableConv2 (None, 19, 19, 728)  536536      block6_sepconv2_act[0][0]        \n",
            "__________________________________________________________________________________________________\n",
            "block6_sepconv2_bn (BatchNormal (None, 19, 19, 728)  2912        block6_sepconv2[0][0]            \n",
            "__________________________________________________________________________________________________\n",
            "block6_sepconv3_act (Activation (None, 19, 19, 728)  0           block6_sepconv2_bn[0][0]         \n",
            "__________________________________________________________________________________________________\n",
            "block6_sepconv3 (SeparableConv2 (None, 19, 19, 728)  536536      block6_sepconv3_act[0][0]        \n",
            "__________________________________________________________________________________________________\n",
            "block6_sepconv3_bn (BatchNormal (None, 19, 19, 728)  2912        block6_sepconv3[0][0]            \n",
            "__________________________________________________________________________________________________\n",
            "add_4 (Add)                     (None, 19, 19, 728)  0           block6_sepconv3_bn[0][0]         \n",
            "                                                                 add_3[0][0]                      \n",
            "__________________________________________________________________________________________________\n",
            "block7_sepconv1_act (Activation (None, 19, 19, 728)  0           add_4[0][0]                      \n",
            "__________________________________________________________________________________________________\n",
            "block7_sepconv1 (SeparableConv2 (None, 19, 19, 728)  536536      block7_sepconv1_act[0][0]        \n",
            "__________________________________________________________________________________________________\n",
            "block7_sepconv1_bn (BatchNormal (None, 19, 19, 728)  2912        block7_sepconv1[0][0]            \n",
            "__________________________________________________________________________________________________\n",
            "block7_sepconv2_act (Activation (None, 19, 19, 728)  0           block7_sepconv1_bn[0][0]         \n",
            "__________________________________________________________________________________________________\n",
            "block7_sepconv2 (SeparableConv2 (None, 19, 19, 728)  536536      block7_sepconv2_act[0][0]        \n",
            "__________________________________________________________________________________________________\n",
            "block7_sepconv2_bn (BatchNormal (None, 19, 19, 728)  2912        block7_sepconv2[0][0]            \n",
            "__________________________________________________________________________________________________\n",
            "block7_sepconv3_act (Activation (None, 19, 19, 728)  0           block7_sepconv2_bn[0][0]         \n",
            "__________________________________________________________________________________________________\n",
            "block7_sepconv3 (SeparableConv2 (None, 19, 19, 728)  536536      block7_sepconv3_act[0][0]        \n",
            "__________________________________________________________________________________________________\n",
            "block7_sepconv3_bn (BatchNormal (None, 19, 19, 728)  2912        block7_sepconv3[0][0]            \n",
            "__________________________________________________________________________________________________\n",
            "add_5 (Add)                     (None, 19, 19, 728)  0           block7_sepconv3_bn[0][0]         \n",
            "                                                                 add_4[0][0]                      \n",
            "__________________________________________________________________________________________________\n",
            "block8_sepconv1_act (Activation (None, 19, 19, 728)  0           add_5[0][0]                      \n",
            "__________________________________________________________________________________________________\n",
            "block8_sepconv1 (SeparableConv2 (None, 19, 19, 728)  536536      block8_sepconv1_act[0][0]        \n",
            "__________________________________________________________________________________________________\n",
            "block8_sepconv1_bn (BatchNormal (None, 19, 19, 728)  2912        block8_sepconv1[0][0]            \n",
            "__________________________________________________________________________________________________\n",
            "block8_sepconv2_act (Activation (None, 19, 19, 728)  0           block8_sepconv1_bn[0][0]         \n",
            "__________________________________________________________________________________________________\n",
            "block8_sepconv2 (SeparableConv2 (None, 19, 19, 728)  536536      block8_sepconv2_act[0][0]        \n",
            "__________________________________________________________________________________________________\n",
            "block8_sepconv2_bn (BatchNormal (None, 19, 19, 728)  2912        block8_sepconv2[0][0]            \n",
            "__________________________________________________________________________________________________\n",
            "block8_sepconv3_act (Activation (None, 19, 19, 728)  0           block8_sepconv2_bn[0][0]         \n",
            "__________________________________________________________________________________________________\n",
            "block8_sepconv3 (SeparableConv2 (None, 19, 19, 728)  536536      block8_sepconv3_act[0][0]        \n",
            "__________________________________________________________________________________________________\n",
            "block8_sepconv3_bn (BatchNormal (None, 19, 19, 728)  2912        block8_sepconv3[0][0]            \n",
            "__________________________________________________________________________________________________\n",
            "add_6 (Add)                     (None, 19, 19, 728)  0           block8_sepconv3_bn[0][0]         \n",
            "                                                                 add_5[0][0]                      \n",
            "__________________________________________________________________________________________________\n",
            "block9_sepconv1_act (Activation (None, 19, 19, 728)  0           add_6[0][0]                      \n",
            "__________________________________________________________________________________________________\n",
            "block9_sepconv1 (SeparableConv2 (None, 19, 19, 728)  536536      block9_sepconv1_act[0][0]        \n",
            "__________________________________________________________________________________________________\n",
            "block9_sepconv1_bn (BatchNormal (None, 19, 19, 728)  2912        block9_sepconv1[0][0]            \n",
            "__________________________________________________________________________________________________\n",
            "block9_sepconv2_act (Activation (None, 19, 19, 728)  0           block9_sepconv1_bn[0][0]         \n",
            "__________________________________________________________________________________________________\n",
            "block9_sepconv2 (SeparableConv2 (None, 19, 19, 728)  536536      block9_sepconv2_act[0][0]        \n",
            "__________________________________________________________________________________________________\n",
            "block9_sepconv2_bn (BatchNormal (None, 19, 19, 728)  2912        block9_sepconv2[0][0]            \n",
            "__________________________________________________________________________________________________\n",
            "block9_sepconv3_act (Activation (None, 19, 19, 728)  0           block9_sepconv2_bn[0][0]         \n",
            "__________________________________________________________________________________________________\n",
            "block9_sepconv3 (SeparableConv2 (None, 19, 19, 728)  536536      block9_sepconv3_act[0][0]        \n",
            "__________________________________________________________________________________________________\n",
            "block9_sepconv3_bn (BatchNormal (None, 19, 19, 728)  2912        block9_sepconv3[0][0]            \n",
            "__________________________________________________________________________________________________\n",
            "add_7 (Add)                     (None, 19, 19, 728)  0           block9_sepconv3_bn[0][0]         \n",
            "                                                                 add_6[0][0]                      \n",
            "__________________________________________________________________________________________________\n",
            "block10_sepconv1_act (Activatio (None, 19, 19, 728)  0           add_7[0][0]                      \n",
            "__________________________________________________________________________________________________\n",
            "block10_sepconv1 (SeparableConv (None, 19, 19, 728)  536536      block10_sepconv1_act[0][0]       \n",
            "__________________________________________________________________________________________________\n",
            "block10_sepconv1_bn (BatchNorma (None, 19, 19, 728)  2912        block10_sepconv1[0][0]           \n",
            "__________________________________________________________________________________________________\n",
            "block10_sepconv2_act (Activatio (None, 19, 19, 728)  0           block10_sepconv1_bn[0][0]        \n",
            "__________________________________________________________________________________________________\n",
            "block10_sepconv2 (SeparableConv (None, 19, 19, 728)  536536      block10_sepconv2_act[0][0]       \n",
            "__________________________________________________________________________________________________\n",
            "block10_sepconv2_bn (BatchNorma (None, 19, 19, 728)  2912        block10_sepconv2[0][0]           \n",
            "__________________________________________________________________________________________________\n",
            "block10_sepconv3_act (Activatio (None, 19, 19, 728)  0           block10_sepconv2_bn[0][0]        \n",
            "__________________________________________________________________________________________________\n",
            "block10_sepconv3 (SeparableConv (None, 19, 19, 728)  536536      block10_sepconv3_act[0][0]       \n",
            "__________________________________________________________________________________________________\n",
            "block10_sepconv3_bn (BatchNorma (None, 19, 19, 728)  2912        block10_sepconv3[0][0]           \n",
            "__________________________________________________________________________________________________\n",
            "add_8 (Add)                     (None, 19, 19, 728)  0           block10_sepconv3_bn[0][0]        \n",
            "                                                                 add_7[0][0]                      \n",
            "__________________________________________________________________________________________________\n",
            "block11_sepconv1_act (Activatio (None, 19, 19, 728)  0           add_8[0][0]                      \n",
            "__________________________________________________________________________________________________\n",
            "block11_sepconv1 (SeparableConv (None, 19, 19, 728)  536536      block11_sepconv1_act[0][0]       \n",
            "__________________________________________________________________________________________________\n",
            "block11_sepconv1_bn (BatchNorma (None, 19, 19, 728)  2912        block11_sepconv1[0][0]           \n",
            "__________________________________________________________________________________________________\n",
            "block11_sepconv2_act (Activatio (None, 19, 19, 728)  0           block11_sepconv1_bn[0][0]        \n",
            "__________________________________________________________________________________________________\n",
            "block11_sepconv2 (SeparableConv (None, 19, 19, 728)  536536      block11_sepconv2_act[0][0]       \n",
            "__________________________________________________________________________________________________\n",
            "block11_sepconv2_bn (BatchNorma (None, 19, 19, 728)  2912        block11_sepconv2[0][0]           \n",
            "__________________________________________________________________________________________________\n",
            "block11_sepconv3_act (Activatio (None, 19, 19, 728)  0           block11_sepconv2_bn[0][0]        \n",
            "__________________________________________________________________________________________________\n",
            "block11_sepconv3 (SeparableConv (None, 19, 19, 728)  536536      block11_sepconv3_act[0][0]       \n",
            "__________________________________________________________________________________________________\n",
            "block11_sepconv3_bn (BatchNorma (None, 19, 19, 728)  2912        block11_sepconv3[0][0]           \n",
            "__________________________________________________________________________________________________\n",
            "add_9 (Add)                     (None, 19, 19, 728)  0           block11_sepconv3_bn[0][0]        \n",
            "                                                                 add_8[0][0]                      \n",
            "__________________________________________________________________________________________________\n",
            "block12_sepconv1_act (Activatio (None, 19, 19, 728)  0           add_9[0][0]                      \n",
            "__________________________________________________________________________________________________\n",
            "block12_sepconv1 (SeparableConv (None, 19, 19, 728)  536536      block12_sepconv1_act[0][0]       \n",
            "__________________________________________________________________________________________________\n",
            "block12_sepconv1_bn (BatchNorma (None, 19, 19, 728)  2912        block12_sepconv1[0][0]           \n",
            "__________________________________________________________________________________________________\n",
            "block12_sepconv2_act (Activatio (None, 19, 19, 728)  0           block12_sepconv1_bn[0][0]        \n",
            "__________________________________________________________________________________________________\n",
            "block12_sepconv2 (SeparableConv (None, 19, 19, 728)  536536      block12_sepconv2_act[0][0]       \n",
            "__________________________________________________________________________________________________\n",
            "block12_sepconv2_bn (BatchNorma (None, 19, 19, 728)  2912        block12_sepconv2[0][0]           \n",
            "__________________________________________________________________________________________________\n",
            "block12_sepconv3_act (Activatio (None, 19, 19, 728)  0           block12_sepconv2_bn[0][0]        \n",
            "__________________________________________________________________________________________________\n",
            "block12_sepconv3 (SeparableConv (None, 19, 19, 728)  536536      block12_sepconv3_act[0][0]       \n",
            "__________________________________________________________________________________________________\n",
            "block12_sepconv3_bn (BatchNorma (None, 19, 19, 728)  2912        block12_sepconv3[0][0]           \n",
            "__________________________________________________________________________________________________\n",
            "add_10 (Add)                    (None, 19, 19, 728)  0           block12_sepconv3_bn[0][0]        \n",
            "                                                                 add_9[0][0]                      \n",
            "__________________________________________________________________________________________________\n",
            "block13_sepconv1_act (Activatio (None, 19, 19, 728)  0           add_10[0][0]                     \n",
            "__________________________________________________________________________________________________\n",
            "block13_sepconv1 (SeparableConv (None, 19, 19, 728)  536536      block13_sepconv1_act[0][0]       \n",
            "__________________________________________________________________________________________________\n",
            "block13_sepconv1_bn (BatchNorma (None, 19, 19, 728)  2912        block13_sepconv1[0][0]           \n",
            "__________________________________________________________________________________________________\n",
            "block13_sepconv2_act (Activatio (None, 19, 19, 728)  0           block13_sepconv1_bn[0][0]        \n",
            "__________________________________________________________________________________________________\n",
            "block13_sepconv2 (SeparableConv (None, 19, 19, 1024) 752024      block13_sepconv2_act[0][0]       \n",
            "__________________________________________________________________________________________________\n",
            "block13_sepconv2_bn (BatchNorma (None, 19, 19, 1024) 4096        block13_sepconv2[0][0]           \n",
            "__________________________________________________________________________________________________\n",
            "conv2d_3 (Conv2D)               (None, 10, 10, 1024) 745472      add_10[0][0]                     \n",
            "__________________________________________________________________________________________________\n",
            "block13_pool (MaxPooling2D)     (None, 10, 10, 1024) 0           block13_sepconv2_bn[0][0]        \n",
            "__________________________________________________________________________________________________\n",
            "batch_normalization_3 (BatchNor (None, 10, 10, 1024) 4096        conv2d_3[0][0]                   \n",
            "__________________________________________________________________________________________________\n",
            "add_11 (Add)                    (None, 10, 10, 1024) 0           block13_pool[0][0]               \n",
            "                                                                 batch_normalization_3[0][0]      \n",
            "__________________________________________________________________________________________________\n",
            "block14_sepconv1 (SeparableConv (None, 10, 10, 1536) 1582080     add_11[0][0]                     \n",
            "__________________________________________________________________________________________________\n",
            "block14_sepconv1_bn (BatchNorma (None, 10, 10, 1536) 6144        block14_sepconv1[0][0]           \n",
            "__________________________________________________________________________________________________\n",
            "block14_sepconv1_act (Activatio (None, 10, 10, 1536) 0           block14_sepconv1_bn[0][0]        \n",
            "__________________________________________________________________________________________________\n",
            "block14_sepconv2 (SeparableConv (None, 10, 10, 2048) 3159552     block14_sepconv1_act[0][0]       \n",
            "__________________________________________________________________________________________________\n",
            "block14_sepconv2_bn (BatchNorma (None, 10, 10, 2048) 8192        block14_sepconv2[0][0]           \n",
            "__________________________________________________________________________________________________\n",
            "block14_sepconv2_act (Activatio (None, 10, 10, 2048) 0           block14_sepconv2_bn[0][0]        \n",
            "__________________________________________________________________________________________________\n",
            "conv2d_4 (Conv2D)               (None, 10, 10, 128)  262272      block14_sepconv2_act[0][0]       \n",
            "__________________________________________________________________________________________________\n",
            "reshape (Reshape)               (None, 100, 128)     0           conv2d_4[0][0]                   \n",
            "__________________________________________________________________________________________________\n",
            "reshape_1 (Reshape)             (None, 100, 128)     0           conv2d_4[0][0]                   \n",
            "__________________________________________________________________________________________________\n",
            "lambda (Lambda)                 (None, 128, 128)     0           reshape[0][0]                    \n",
            "                                                                 reshape_1[0][0]                  \n",
            "__________________________________________________________________________________________________\n",
            "reshape_2 (Reshape)             (None, 16384)        0           lambda[0][0]                     \n",
            "__________________________________________________________________________________________________\n",
            "lambda_1 (Lambda)               (None, 16384)        0           reshape_2[0][0]                  \n",
            "__________________________________________________________________________________________________\n",
            "lambda_2 (Lambda)               (None, 16384)        0           lambda_1[0][0]                   \n",
            "__________________________________________________________________________________________________\n",
            "dense (Dense)                   (None, 2048)         33556480    lambda_2[0][0]                   \n",
            "__________________________________________________________________________________________________\n",
            "dense_1 (Dense)                 (None, 512)          1049088     dense[0][0]                      \n",
            "__________________________________________________________________________________________________\n",
            "dropout (Dropout)               (None, 512)          0           dense_1[0][0]                    \n",
            "__________________________________________________________________________________________________\n",
            "dense_2 (Dense)                 (None, 211)          108243      dropout[0][0]                    \n",
            "==================================================================================================\n",
            "Total params: 55,837,563\n",
            "Trainable params: 55,754,523\n",
            "Non-trainable params: 83,040\n",
            "__________________________________________________________________________________________________\n"
          ],
          "name": "stdout"
        }
      ]
    },
    {
      "cell_type": "code",
      "metadata": {
        "id": "NnhZ9bR-PiVb",
        "colab_type": "code",
        "colab": {
          "base_uri": "https://localhost:8080/",
          "height": 1000
        },
        "outputId": "57214453-9afc-4b71-b521-2c8cf198813d"
      },
      "source": [
        "# Callback to reduce learning rate if no improvement in validation loss for certain number of epochs\n",
        "reduce_lr = ReduceLROnPlateau(monitor='val_loss', factor=0.1, patience=10, min_lr=1e-8, verbose=1)\n",
        "\n",
        "# Callback to stop training if no improvement in validation loss for certain number of epochs\n",
        "early_stop = EarlyStopping(monitor='val_loss', patience=20)\n",
        "\n",
        "# Callback to save best model weights per epoch\n",
        "weights_filepath = \"best_model_weights.hdf5\"\n",
        "checkpoint = ModelCheckpoint(\n",
        "    filepath=weights_filepath,\n",
        "    monitor='val_accuracy',\n",
        "    mode='max',\n",
        "    save_best_only=True,\n",
        "    verbose=1\n",
        ")\n",
        "\n",
        "model.compile(loss='categorical_crossentropy', optimizer=Nadam(lr=0.0001), metrics=['accuracy'])\n",
        "\n",
        "history = model.fit(\n",
        "    train_generator,\n",
        "    epochs=80,\n",
        "    steps_per_epoch=50,\n",
        "    validation_data=validation_generator,\n",
        "    verbose=1,\n",
        "    validation_steps=3,\n",
        "    callbacks=[reduce_lr, checkpoint]\n",
        ")"
      ],
      "execution_count": null,
      "outputs": [
        {
          "output_type": "stream",
          "text": [
            "Epoch 1/80\n",
            "50/50 [==============================] - ETA: 0s - loss: 5.3488 - accuracy: 0.0069\n",
            "Epoch 00001: val_accuracy improved from -inf to 0.01042, saving model to best_model_weights.hdf5\n",
            "50/50 [==============================] - 58s 1s/step - loss: 5.3488 - accuracy: 0.0069 - val_loss: 5.3452 - val_accuracy: 0.0104 - lr: 1.0000e-04\n",
            "Epoch 2/80\n",
            "50/50 [==============================] - ETA: 0s - loss: 5.3179 - accuracy: 0.0137\n",
            "Epoch 00002: val_accuracy did not improve from 0.01042\n",
            "50/50 [==============================] - 56s 1s/step - loss: 5.3179 - accuracy: 0.0137 - val_loss: 5.3211 - val_accuracy: 0.0000e+00 - lr: 1.0000e-04\n",
            "Epoch 3/80\n",
            "50/50 [==============================] - ETA: 0s - loss: 5.2152 - accuracy: 0.0392\n",
            "Epoch 00003: val_accuracy improved from 0.01042 to 0.02083, saving model to best_model_weights.hdf5\n",
            "50/50 [==============================] - 58s 1s/step - loss: 5.2152 - accuracy: 0.0392 - val_loss: 5.3045 - val_accuracy: 0.0208 - lr: 1.0000e-04\n",
            "Epoch 4/80\n",
            "50/50 [==============================] - ETA: 0s - loss: 5.0023 - accuracy: 0.0494\n",
            "Epoch 00004: val_accuracy did not improve from 0.02083\n",
            "50/50 [==============================] - 56s 1s/step - loss: 5.0023 - accuracy: 0.0494 - val_loss: 4.9257 - val_accuracy: 0.0104 - lr: 1.0000e-04\n",
            "Epoch 5/80\n",
            "50/50 [==============================] - ETA: 0s - loss: 4.7125 - accuracy: 0.0844\n",
            "Epoch 00005: val_accuracy improved from 0.02083 to 0.06250, saving model to best_model_weights.hdf5\n",
            "50/50 [==============================] - 58s 1s/step - loss: 4.7125 - accuracy: 0.0844 - val_loss: 4.8682 - val_accuracy: 0.0625 - lr: 1.0000e-04\n",
            "Epoch 6/80\n",
            "50/50 [==============================] - ETA: 0s - loss: 4.3472 - accuracy: 0.1139\n",
            "Epoch 00006: val_accuracy improved from 0.06250 to 0.13542, saving model to best_model_weights.hdf5\n",
            "50/50 [==============================] - 57s 1s/step - loss: 4.3472 - accuracy: 0.1139 - val_loss: 4.4122 - val_accuracy: 0.1354 - lr: 1.0000e-04\n",
            "Epoch 7/80\n",
            "50/50 [==============================] - ETA: 0s - loss: 4.0474 - accuracy: 0.1500\n",
            "Epoch 00007: val_accuracy improved from 0.13542 to 0.20833, saving model to best_model_weights.hdf5\n",
            "50/50 [==============================] - 59s 1s/step - loss: 4.0474 - accuracy: 0.1500 - val_loss: 3.9269 - val_accuracy: 0.2083 - lr: 1.0000e-04\n",
            "Epoch 8/80\n",
            "50/50 [==============================] - ETA: 0s - loss: 3.7057 - accuracy: 0.1967\n",
            "Epoch 00008: val_accuracy improved from 0.20833 to 0.21875, saving model to best_model_weights.hdf5\n",
            "50/50 [==============================] - 58s 1s/step - loss: 3.7057 - accuracy: 0.1967 - val_loss: 3.6417 - val_accuracy: 0.2188 - lr: 1.0000e-04\n",
            "Epoch 9/80\n",
            "50/50 [==============================] - ETA: 0s - loss: 3.4551 - accuracy: 0.2256\n",
            "Epoch 00009: val_accuracy improved from 0.21875 to 0.23958, saving model to best_model_weights.hdf5\n",
            "50/50 [==============================] - 58s 1s/step - loss: 3.4551 - accuracy: 0.2256 - val_loss: 3.6574 - val_accuracy: 0.2396 - lr: 1.0000e-04\n",
            "Epoch 10/80\n",
            "50/50 [==============================] - ETA: 0s - loss: 3.2232 - accuracy: 0.2544\n",
            "Epoch 00010: val_accuracy improved from 0.23958 to 0.33333, saving model to best_model_weights.hdf5\n",
            "50/50 [==============================] - 58s 1s/step - loss: 3.2232 - accuracy: 0.2544 - val_loss: 3.2304 - val_accuracy: 0.3333 - lr: 1.0000e-04\n",
            "Epoch 11/80\n",
            "50/50 [==============================] - ETA: 0s - loss: 2.9917 - accuracy: 0.3031\n",
            "Epoch 00011: val_accuracy improved from 0.33333 to 0.52083, saving model to best_model_weights.hdf5\n",
            "50/50 [==============================] - 58s 1s/step - loss: 2.9917 - accuracy: 0.3031 - val_loss: 2.5594 - val_accuracy: 0.5208 - lr: 1.0000e-04\n",
            "Epoch 12/80\n",
            "50/50 [==============================] - ETA: 0s - loss: 2.7265 - accuracy: 0.3536\n",
            "Epoch 00012: val_accuracy did not improve from 0.52083\n",
            "50/50 [==============================] - 56s 1s/step - loss: 2.7265 - accuracy: 0.3536 - val_loss: 2.8995 - val_accuracy: 0.3646 - lr: 1.0000e-04\n",
            "Epoch 13/80\n",
            "50/50 [==============================] - ETA: 0s - loss: 2.5464 - accuracy: 0.3975\n",
            "Epoch 00013: val_accuracy did not improve from 0.52083\n",
            "50/50 [==============================] - 56s 1s/step - loss: 2.5464 - accuracy: 0.3975 - val_loss: 2.5176 - val_accuracy: 0.4688 - lr: 1.0000e-04\n",
            "Epoch 14/80\n",
            "50/50 [==============================] - ETA: 0s - loss: 2.3315 - accuracy: 0.4263\n",
            "Epoch 00014: val_accuracy improved from 0.52083 to 0.60417, saving model to best_model_weights.hdf5\n",
            "50/50 [==============================] - 59s 1s/step - loss: 2.3315 - accuracy: 0.4263 - val_loss: 2.1032 - val_accuracy: 0.6042 - lr: 1.0000e-04\n",
            "Epoch 15/80\n",
            "50/50 [==============================] - ETA: 0s - loss: 2.1732 - accuracy: 0.4688\n",
            "Epoch 00015: val_accuracy improved from 0.60417 to 0.65625, saving model to best_model_weights.hdf5\n",
            "50/50 [==============================] - 59s 1s/step - loss: 2.1732 - accuracy: 0.4688 - val_loss: 1.9522 - val_accuracy: 0.6562 - lr: 1.0000e-04\n",
            "Epoch 16/80\n",
            "50/50 [==============================] - ETA: 0s - loss: 2.0337 - accuracy: 0.5117\n",
            "Epoch 00016: val_accuracy did not improve from 0.65625\n",
            "50/50 [==============================] - 56s 1s/step - loss: 2.0337 - accuracy: 0.5117 - val_loss: 2.0393 - val_accuracy: 0.5521 - lr: 1.0000e-04\n",
            "Epoch 17/80\n",
            "50/50 [==============================] - ETA: 0s - loss: 1.8666 - accuracy: 0.5263\n",
            "Epoch 00017: val_accuracy did not improve from 0.65625\n",
            "50/50 [==============================] - 56s 1s/step - loss: 1.8666 - accuracy: 0.5263 - val_loss: 2.0027 - val_accuracy: 0.6146 - lr: 1.0000e-04\n",
            "Epoch 18/80\n",
            "50/50 [==============================] - ETA: 0s - loss: 1.6956 - accuracy: 0.5844\n",
            "Epoch 00018: val_accuracy did not improve from 0.65625\n",
            "50/50 [==============================] - 56s 1s/step - loss: 1.6956 - accuracy: 0.5844 - val_loss: 1.5672 - val_accuracy: 0.6562 - lr: 1.0000e-04\n",
            "Epoch 19/80\n",
            "50/50 [==============================] - ETA: 0s - loss: 1.6554 - accuracy: 0.5906\n",
            "Epoch 00019: val_accuracy did not improve from 0.65625\n",
            "50/50 [==============================] - 56s 1s/step - loss: 1.6554 - accuracy: 0.5906 - val_loss: 1.6755 - val_accuracy: 0.5938 - lr: 1.0000e-04\n",
            "Epoch 20/80\n",
            "50/50 [==============================] - ETA: 0s - loss: 1.4927 - accuracy: 0.6135\n",
            "Epoch 00020: val_accuracy did not improve from 0.65625\n",
            "50/50 [==============================] - 56s 1s/step - loss: 1.4927 - accuracy: 0.6135 - val_loss: 1.4970 - val_accuracy: 0.6354 - lr: 1.0000e-04\n",
            "Epoch 21/80\n",
            "50/50 [==============================] - ETA: 0s - loss: 1.3934 - accuracy: 0.6481\n",
            "Epoch 00021: val_accuracy did not improve from 0.65625\n",
            "50/50 [==============================] - 56s 1s/step - loss: 1.3934 - accuracy: 0.6481 - val_loss: 1.4144 - val_accuracy: 0.6562 - lr: 1.0000e-04\n",
            "Epoch 22/80\n",
            "50/50 [==============================] - ETA: 0s - loss: 1.3478 - accuracy: 0.6538\n",
            "Epoch 00022: val_accuracy improved from 0.65625 to 0.70833, saving model to best_model_weights.hdf5\n",
            "50/50 [==============================] - 58s 1s/step - loss: 1.3478 - accuracy: 0.6538 - val_loss: 1.3957 - val_accuracy: 0.7083 - lr: 1.0000e-04\n",
            "Epoch 23/80\n",
            "50/50 [==============================] - ETA: 0s - loss: 1.2870 - accuracy: 0.6775\n",
            "Epoch 00023: val_accuracy improved from 0.70833 to 0.71875, saving model to best_model_weights.hdf5\n",
            "50/50 [==============================] - 58s 1s/step - loss: 1.2870 - accuracy: 0.6775 - val_loss: 1.2701 - val_accuracy: 0.7188 - lr: 1.0000e-04\n",
            "Epoch 24/80\n",
            "50/50 [==============================] - ETA: 0s - loss: 1.1374 - accuracy: 0.7019\n",
            "Epoch 00024: val_accuracy did not improve from 0.71875\n",
            "50/50 [==============================] - 56s 1s/step - loss: 1.1374 - accuracy: 0.7019 - val_loss: 1.3230 - val_accuracy: 0.7188 - lr: 1.0000e-04\n",
            "Epoch 25/80\n",
            "50/50 [==============================] - ETA: 0s - loss: 1.0453 - accuracy: 0.7306\n",
            "Epoch 00025: val_accuracy improved from 0.71875 to 0.72917, saving model to best_model_weights.hdf5\n",
            "50/50 [==============================] - 57s 1s/step - loss: 1.0453 - accuracy: 0.7306 - val_loss: 1.1562 - val_accuracy: 0.7292 - lr: 1.0000e-04\n",
            "Epoch 26/80\n",
            "50/50 [==============================] - ETA: 0s - loss: 0.9926 - accuracy: 0.7400\n",
            "Epoch 00026: val_accuracy did not improve from 0.72917\n",
            "50/50 [==============================] - 55s 1s/step - loss: 0.9926 - accuracy: 0.7400 - val_loss: 1.4006 - val_accuracy: 0.6979 - lr: 1.0000e-04\n",
            "Epoch 27/80\n",
            "50/50 [==============================] - ETA: 0s - loss: 0.9907 - accuracy: 0.7412\n",
            "Epoch 00027: val_accuracy did not improve from 0.72917\n",
            "50/50 [==============================] - 54s 1s/step - loss: 0.9907 - accuracy: 0.7412 - val_loss: 1.2028 - val_accuracy: 0.6979 - lr: 1.0000e-04\n",
            "Epoch 28/80\n",
            "50/50 [==============================] - ETA: 0s - loss: 0.9064 - accuracy: 0.7613\n",
            "Epoch 00028: val_accuracy improved from 0.72917 to 0.81250, saving model to best_model_weights.hdf5\n",
            "50/50 [==============================] - 57s 1s/step - loss: 0.9064 - accuracy: 0.7613 - val_loss: 0.9686 - val_accuracy: 0.8125 - lr: 1.0000e-04\n",
            "Epoch 29/80\n",
            "50/50 [==============================] - ETA: 0s - loss: 0.8394 - accuracy: 0.7825\n",
            "Epoch 00029: val_accuracy did not improve from 0.81250\n",
            "50/50 [==============================] - 55s 1s/step - loss: 0.8394 - accuracy: 0.7825 - val_loss: 0.9440 - val_accuracy: 0.7708 - lr: 1.0000e-04\n",
            "Epoch 30/80\n",
            "50/50 [==============================] - ETA: 0s - loss: 0.8299 - accuracy: 0.7681\n",
            "Epoch 00030: val_accuracy did not improve from 0.81250\n",
            "50/50 [==============================] - 54s 1s/step - loss: 0.8299 - accuracy: 0.7681 - val_loss: 1.1775 - val_accuracy: 0.7083 - lr: 1.0000e-04\n",
            "Epoch 31/80\n",
            "50/50 [==============================] - ETA: 0s - loss: 0.7142 - accuracy: 0.7982\n",
            "Epoch 00031: val_accuracy did not improve from 0.81250\n",
            "50/50 [==============================] - 54s 1s/step - loss: 0.7142 - accuracy: 0.7982 - val_loss: 1.1583 - val_accuracy: 0.7917 - lr: 1.0000e-04\n",
            "Epoch 32/80\n",
            "50/50 [==============================] - ETA: 0s - loss: 0.7082 - accuracy: 0.8106\n",
            "Epoch 00032: val_accuracy did not improve from 0.81250\n",
            "50/50 [==============================] - 54s 1s/step - loss: 0.7082 - accuracy: 0.8106 - val_loss: 1.0799 - val_accuracy: 0.7500 - lr: 1.0000e-04\n",
            "Epoch 33/80\n",
            "50/50 [==============================] - ETA: 0s - loss: 0.6838 - accuracy: 0.8138\n",
            "Epoch 00033: val_accuracy did not improve from 0.81250\n",
            "50/50 [==============================] - 54s 1s/step - loss: 0.6838 - accuracy: 0.8138 - val_loss: 1.0771 - val_accuracy: 0.7604 - lr: 1.0000e-04\n",
            "Epoch 34/80\n",
            "50/50 [==============================] - ETA: 0s - loss: 0.6046 - accuracy: 0.8393\n",
            "Epoch 00034: val_accuracy did not improve from 0.81250\n",
            "50/50 [==============================] - 54s 1s/step - loss: 0.6046 - accuracy: 0.8393 - val_loss: 1.3476 - val_accuracy: 0.6979 - lr: 1.0000e-04\n",
            "Epoch 35/80\n",
            "50/50 [==============================] - ETA: 0s - loss: 0.5772 - accuracy: 0.8482\n",
            "Epoch 00035: val_accuracy did not improve from 0.81250\n",
            "50/50 [==============================] - 53s 1s/step - loss: 0.5772 - accuracy: 0.8482 - val_loss: 0.8454 - val_accuracy: 0.7917 - lr: 1.0000e-04\n",
            "Epoch 36/80\n",
            "50/50 [==============================] - ETA: 0s - loss: 0.5724 - accuracy: 0.8406\n",
            "Epoch 00036: val_accuracy improved from 0.81250 to 0.82292, saving model to best_model_weights.hdf5\n",
            "50/50 [==============================] - 57s 1s/step - loss: 0.5724 - accuracy: 0.8406 - val_loss: 0.6819 - val_accuracy: 0.8229 - lr: 1.0000e-04\n",
            "Epoch 37/80\n",
            "50/50 [==============================] - ETA: 0s - loss: 0.5345 - accuracy: 0.8487\n",
            "Epoch 00037: val_accuracy did not improve from 0.82292\n",
            "50/50 [==============================] - 55s 1s/step - loss: 0.5345 - accuracy: 0.8487 - val_loss: 0.8139 - val_accuracy: 0.7708 - lr: 1.0000e-04\n",
            "Epoch 38/80\n",
            "50/50 [==============================] - ETA: 0s - loss: 0.5223 - accuracy: 0.8531Epoch 39/80\n",
            "50/50 [==============================] - ETA: 0s - loss: 0.4803 - accuracy: 0.8691\n",
            "Epoch 00039: val_accuracy did not improve from 0.82292\n",
            "50/50 [==============================] - 53s 1s/step - loss: 0.4803 - accuracy: 0.8691 - val_loss: 0.8650 - val_accuracy: 0.7917 - lr: 1.0000e-04\n",
            "Epoch 40/80\n",
            "50/50 [==============================] - ETA: 0s - loss: 0.4705 - accuracy: 0.8631\n",
            "Epoch 00040: val_accuracy did not improve from 0.82292\n",
            "50/50 [==============================] - 53s 1s/step - loss: 0.4705 - accuracy: 0.8631 - val_loss: 0.8857 - val_accuracy: 0.7917 - lr: 1.0000e-04\n",
            "Epoch 41/80\n",
            "50/50 [==============================] - ETA: 0s - loss: 0.4347 - accuracy: 0.8786\n",
            "Epoch 00041: val_accuracy did not improve from 0.82292\n",
            "50/50 [==============================] - 53s 1s/step - loss: 0.4347 - accuracy: 0.8786 - val_loss: 1.2086 - val_accuracy: 0.7604 - lr: 1.0000e-04\n",
            "Epoch 42/80\n",
            "50/50 [==============================] - ETA: 0s - loss: 0.4337 - accuracy: 0.8831\n",
            "Epoch 00042: val_accuracy did not improve from 0.82292\n",
            "50/50 [==============================] - 53s 1s/step - loss: 0.4337 - accuracy: 0.8831 - val_loss: 0.8965 - val_accuracy: 0.8021 - lr: 1.0000e-04\n",
            "Epoch 43/80\n",
            "50/50 [==============================] - ETA: 0s - loss: 0.4453 - accuracy: 0.8788\n",
            "Epoch 00043: val_accuracy improved from 0.82292 to 0.86458, saving model to best_model_weights.hdf5\n",
            "50/50 [==============================] - 55s 1s/step - loss: 0.4453 - accuracy: 0.8788 - val_loss: 0.6675 - val_accuracy: 0.8646 - lr: 1.0000e-04\n",
            "Epoch 44/80\n",
            "50/50 [==============================] - ETA: 0s - loss: 0.4234 - accuracy: 0.8811\n",
            "Epoch 00044: val_accuracy did not improve from 0.86458\n",
            "50/50 [==============================] - 53s 1s/step - loss: 0.4234 - accuracy: 0.8811 - val_loss: 0.7325 - val_accuracy: 0.8125 - lr: 1.0000e-04\n",
            "Epoch 45/80\n",
            "50/50 [==============================] - ETA: 0s - loss: 0.3792 - accuracy: 0.8975\n",
            "Epoch 00045: val_accuracy did not improve from 0.86458\n",
            "50/50 [==============================] - 53s 1s/step - loss: 0.3792 - accuracy: 0.8975 - val_loss: 0.9610 - val_accuracy: 0.8125 - lr: 1.0000e-04\n",
            "Epoch 46/80\n",
            "50/50 [==============================] - ETA: 0s - loss: 0.3742 - accuracy: 0.9007\n",
            "Epoch 00046: val_accuracy did not improve from 0.86458\n",
            "50/50 [==============================] - 53s 1s/step - loss: 0.3742 - accuracy: 0.9007 - val_loss: 0.8739 - val_accuracy: 0.7708 - lr: 1.0000e-04\n",
            "Epoch 47/80\n",
            "50/50 [==============================] - ETA: 0s - loss: 0.3983 - accuracy: 0.8894\n",
            "Epoch 00047: val_accuracy did not improve from 0.86458\n",
            "50/50 [==============================] - 53s 1s/step - loss: 0.3983 - accuracy: 0.8894 - val_loss: 1.0832 - val_accuracy: 0.7500 - lr: 1.0000e-04\n",
            "Epoch 48/80\n",
            "50/50 [==============================] - ETA: 0s - loss: 0.3743 - accuracy: 0.8937\n",
            "Epoch 00048: val_accuracy did not improve from 0.86458\n",
            "50/50 [==============================] - 52s 1s/step - loss: 0.3743 - accuracy: 0.8937 - val_loss: 0.6922 - val_accuracy: 0.8229 - lr: 1.0000e-04\n",
            "Epoch 49/80\n",
            "50/50 [==============================] - ETA: 0s - loss: 0.3259 - accuracy: 0.9100\n",
            "Epoch 00049: val_accuracy did not improve from 0.86458\n",
            "50/50 [==============================] - 52s 1s/step - loss: 0.3259 - accuracy: 0.9100 - val_loss: 0.7307 - val_accuracy: 0.8438 - lr: 1.0000e-04\n",
            "Epoch 50/80\n",
            "50/50 [==============================] - ETA: 0s - loss: 0.3044 - accuracy: 0.9144\n",
            "Epoch 00050: val_accuracy improved from 0.86458 to 0.87500, saving model to best_model_weights.hdf5\n",
            "50/50 [==============================] - 55s 1s/step - loss: 0.3044 - accuracy: 0.9144 - val_loss: 0.6603 - val_accuracy: 0.8750 - lr: 1.0000e-04\n",
            "Epoch 51/80\n",
            "50/50 [==============================] - ETA: 0s - loss: 0.2904 - accuracy: 0.9162\n",
            "Epoch 00051: val_accuracy did not improve from 0.87500\n",
            "50/50 [==============================] - 53s 1s/step - loss: 0.2904 - accuracy: 0.9162 - val_loss: 0.8589 - val_accuracy: 0.7708 - lr: 1.0000e-04\n",
            "Epoch 52/80\n",
            "50/50 [==============================] - ETA: 0s - loss: 0.3148 - accuracy: 0.9094\n",
            "Epoch 00052: val_accuracy did not improve from 0.87500\n",
            "50/50 [==============================] - 53s 1s/step - loss: 0.3148 - accuracy: 0.9094 - val_loss: 1.2981 - val_accuracy: 0.7396 - lr: 1.0000e-04\n",
            "Epoch 53/80\n",
            "50/50 [==============================] - ETA: 0s - loss: 0.2587 - accuracy: 0.9331\n",
            "Epoch 00053: val_accuracy did not improve from 0.87500\n",
            "50/50 [==============================] - 54s 1s/step - loss: 0.2587 - accuracy: 0.9331 - val_loss: 1.0769 - val_accuracy: 0.7708 - lr: 1.0000e-04\n",
            "Epoch 54/80\n",
            "50/50 [==============================] - ETA: 0s - loss: 0.2811 - accuracy: 0.9250\n",
            "Epoch 00054: val_accuracy did not improve from 0.87500\n",
            "50/50 [==============================] - 55s 1s/step - loss: 0.2811 - accuracy: 0.9250 - val_loss: 1.1365 - val_accuracy: 0.7708 - lr: 1.0000e-04\n",
            "Epoch 55/80\n",
            "50/50 [==============================] - ETA: 0s - loss: 0.2684 - accuracy: 0.9256\n",
            "Epoch 00055: val_accuracy did not improve from 0.87500\n",
            "50/50 [==============================] - 54s 1s/step - loss: 0.2684 - accuracy: 0.9256 - val_loss: 0.9501 - val_accuracy: 0.8021 - lr: 1.0000e-04\n",
            "Epoch 56/80\n",
            "50/50 [==============================] - ETA: 0s - loss: 0.2475 - accuracy: 0.9362\n",
            "Epoch 00056: val_accuracy did not improve from 0.87500\n",
            "50/50 [==============================] - 53s 1s/step - loss: 0.2475 - accuracy: 0.9362 - val_loss: 0.8668 - val_accuracy: 0.8438 - lr: 1.0000e-04\n",
            "Epoch 57/80\n",
            "50/50 [==============================] - ETA: 0s - loss: 0.2385 - accuracy: 0.9369\n",
            "Epoch 00057: val_accuracy did not improve from 0.87500\n",
            "50/50 [==============================] - 53s 1s/step - loss: 0.2385 - accuracy: 0.9369 - val_loss: 0.6601 - val_accuracy: 0.8229 - lr: 1.0000e-04\n",
            "Epoch 58/80\n",
            "50/50 [==============================] - ETA: 0s - loss: 0.2301 - accuracy: 0.9312\n",
            "Epoch 00058: val_accuracy did not improve from 0.87500\n",
            "50/50 [==============================] - 53s 1s/step - loss: 0.2301 - accuracy: 0.9312 - val_loss: 0.5323 - val_accuracy: 0.8646 - lr: 1.0000e-04\n",
            "Epoch 59/80\n",
            "50/50 [==============================] - ETA: 0s - loss: 0.2655 - accuracy: 0.9212\n",
            "Epoch 00059: val_accuracy did not improve from 0.87500\n",
            "50/50 [==============================] - 53s 1s/step - loss: 0.2655 - accuracy: 0.9212 - val_loss: 0.7564 - val_accuracy: 0.7917 - lr: 1.0000e-04\n",
            "Epoch 60/80\n",
            "50/50 [==============================] - ETA: 0s - loss: 0.2290 - accuracy: 0.9344\n",
            "Epoch 00060: val_accuracy did not improve from 0.87500\n",
            "50/50 [==============================] - 53s 1s/step - loss: 0.2290 - accuracy: 0.9344 - val_loss: 0.8186 - val_accuracy: 0.8125 - lr: 1.0000e-04\n",
            "Epoch 61/80\n",
            "50/50 [==============================] - ETA: 0s - loss: 0.2270 - accuracy: 0.9412\n",
            "Epoch 00061: val_accuracy did not improve from 0.87500\n",
            "50/50 [==============================] - 53s 1s/step - loss: 0.2270 - accuracy: 0.9412 - val_loss: 0.7737 - val_accuracy: 0.8646 - lr: 1.0000e-04\n",
            "Epoch 62/80\n",
            "50/50 [==============================] - ETA: 0s - loss: 0.2401 - accuracy: 0.9304\n",
            "Epoch 00062: val_accuracy did not improve from 0.87500\n",
            "50/50 [==============================] - 52s 1s/step - loss: 0.2401 - accuracy: 0.9304 - val_loss: 0.8962 - val_accuracy: 0.7812 - lr: 1.0000e-04\n",
            "Epoch 63/80\n",
            "50/50 [==============================] - ETA: 0s - loss: 0.2456 - accuracy: 0.9350\n",
            "Epoch 00063: val_accuracy did not improve from 0.87500\n",
            "50/50 [==============================] - 53s 1s/step - loss: 0.2456 - accuracy: 0.9350 - val_loss: 1.1836 - val_accuracy: 0.7917 - lr: 1.0000e-04\n",
            "Epoch 64/80\n",
            "50/50 [==============================] - ETA: 0s - loss: 0.2186 - accuracy: 0.9450\n",
            "Epoch 00064: val_accuracy did not improve from 0.87500\n",
            "50/50 [==============================] - 52s 1s/step - loss: 0.2186 - accuracy: 0.9450 - val_loss: 0.9285 - val_accuracy: 0.8021 - lr: 1.0000e-04\n",
            "Epoch 65/80\n",
            "50/50 [==============================] - ETA: 0s - loss: 0.1864 - accuracy: 0.9513\n",
            "Epoch 00065: val_accuracy did not improve from 0.87500\n",
            "50/50 [==============================] - 52s 1s/step - loss: 0.1864 - accuracy: 0.9513 - val_loss: 1.2147 - val_accuracy: 0.7708 - lr: 1.0000e-04\n",
            "Epoch 66/80\n",
            "50/50 [==============================] - ETA: 0s - loss: 0.1784 - accuracy: 0.9532\n",
            "Epoch 00066: val_accuracy did not improve from 0.87500\n",
            "50/50 [==============================] - 52s 1s/step - loss: 0.1784 - accuracy: 0.9532 - val_loss: 1.2926 - val_accuracy: 0.7396 - lr: 1.0000e-04\n",
            "Epoch 67/80\n",
            "50/50 [==============================] - ETA: 0s - loss: 0.1633 - accuracy: 0.9538\n",
            "Epoch 00067: val_accuracy did not improve from 0.87500\n",
            "50/50 [==============================] - 53s 1s/step - loss: 0.1633 - accuracy: 0.9538 - val_loss: 1.3261 - val_accuracy: 0.7396 - lr: 1.0000e-04\n",
            "Epoch 68/80\n",
            "50/50 [==============================] - ETA: 0s - loss: 0.1793 - accuracy: 0.9500\n",
            "Epoch 00068: ReduceLROnPlateau reducing learning rate to 9.999999747378752e-06.\n",
            "\n",
            "Epoch 00068: val_accuracy did not improve from 0.87500\n",
            "50/50 [==============================] - 53s 1s/step - loss: 0.1793 - accuracy: 0.9500 - val_loss: 0.9384 - val_accuracy: 0.8438 - lr: 1.0000e-04\n",
            "Epoch 69/80\n",
            "50/50 [==============================] - ETA: 0s - loss: 0.1831 - accuracy: 0.9481\n",
            "Epoch 00069: val_accuracy did not improve from 0.87500\n",
            "50/50 [==============================] - 53s 1s/step - loss: 0.1831 - accuracy: 0.9481 - val_loss: 0.7947 - val_accuracy: 0.8750 - lr: 1.0000e-05\n",
            "Epoch 70/80\n",
            "50/50 [==============================] - ETA: 0s - loss: 0.1452 - accuracy: 0.9627\n",
            "Epoch 00070: val_accuracy did not improve from 0.87500\n",
            "50/50 [==============================] - 53s 1s/step - loss: 0.1452 - accuracy: 0.9627 - val_loss: 0.7932 - val_accuracy: 0.8333 - lr: 1.0000e-05\n",
            "Epoch 71/80\n",
            "50/50 [==============================] - ETA: 0s - loss: 0.1811 - accuracy: 0.9469\n",
            "Epoch 00071: val_accuracy improved from 0.87500 to 0.88542, saving model to best_model_weights.hdf5\n",
            "50/50 [==============================] - 56s 1s/step - loss: 0.1811 - accuracy: 0.9469 - val_loss: 0.4522 - val_accuracy: 0.8854 - lr: 1.0000e-05\n",
            "Epoch 72/80\n",
            "50/50 [==============================] - ETA: 0s - loss: 0.1485 - accuracy: 0.9606\n",
            "Epoch 00072: val_accuracy did not improve from 0.88542\n",
            "50/50 [==============================] - 53s 1s/step - loss: 0.1485 - accuracy: 0.9606 - val_loss: 0.9203 - val_accuracy: 0.8125 - lr: 1.0000e-05\n",
            "Epoch 73/80\n",
            "50/50 [==============================] - ETA: 0s - loss: 0.1553 - accuracy: 0.9594\n",
            "Epoch 00073: val_accuracy did not improve from 0.88542\n",
            "50/50 [==============================] - 54s 1s/step - loss: 0.1553 - accuracy: 0.9594 - val_loss: 0.9759 - val_accuracy: 0.8438 - lr: 1.0000e-05\n",
            "Epoch 74/80\n",
            "50/50 [==============================] - ETA: 0s - loss: 0.1268 - accuracy: 0.9625\n",
            "Epoch 00074: val_accuracy did not improve from 0.88542\n",
            "50/50 [==============================] - 54s 1s/step - loss: 0.1268 - accuracy: 0.9625 - val_loss: 0.8355 - val_accuracy: 0.8229 - lr: 1.0000e-05\n",
            "Epoch 75/80\n",
            "50/50 [==============================] - ETA: 0s - loss: 0.1365 - accuracy: 0.9594\n",
            "Epoch 00075: val_accuracy did not improve from 0.88542\n",
            "50/50 [==============================] - 55s 1s/step - loss: 0.1365 - accuracy: 0.9594 - val_loss: 0.7028 - val_accuracy: 0.8646 - lr: 1.0000e-05\n",
            "Epoch 76/80\n",
            "50/50 [==============================] - ETA: 0s - loss: 0.1081 - accuracy: 0.9734\n",
            "Epoch 00076: val_accuracy did not improve from 0.88542\n",
            "50/50 [==============================] - 54s 1s/step - loss: 0.1081 - accuracy: 0.9734 - val_loss: 1.1477 - val_accuracy: 0.7708 - lr: 1.0000e-05\n",
            "Epoch 77/80\n",
            "50/50 [==============================] - ETA: 0s - loss: 0.1119 - accuracy: 0.9715\n",
            "Epoch 00077: val_accuracy did not improve from 0.88542\n",
            "50/50 [==============================] - 54s 1s/step - loss: 0.1119 - accuracy: 0.9715 - val_loss: 0.4508 - val_accuracy: 0.8646 - lr: 1.0000e-05\n",
            "Epoch 78/80\n",
            "50/50 [==============================] - ETA: 0s - loss: 0.1274 - accuracy: 0.9669\n",
            "Epoch 00078: val_accuracy did not improve from 0.88542\n",
            "50/50 [==============================] - 55s 1s/step - loss: 0.1274 - accuracy: 0.9669 - val_loss: 1.0176 - val_accuracy: 0.8438 - lr: 1.0000e-05\n",
            "Epoch 79/80\n",
            "50/50 [==============================] - ETA: 0s - loss: 0.1196 - accuracy: 0.9656\n",
            "Epoch 00079: val_accuracy did not improve from 0.88542\n",
            "50/50 [==============================] - 55s 1s/step - loss: 0.1196 - accuracy: 0.9656 - val_loss: 1.3562 - val_accuracy: 0.7396 - lr: 1.0000e-05\n",
            "Epoch 80/80\n",
            "50/50 [==============================] - ETA: 0s - loss: 0.1158 - accuracy: 0.9650\n",
            "Epoch 00080: val_accuracy improved from 0.88542 to 0.90625, saving model to best_model_weights.hdf5\n",
            "50/50 [==============================] - 58s 1s/step - loss: 0.1158 - accuracy: 0.9650 - val_loss: 0.5857 - val_accuracy: 0.9062 - lr: 1.0000e-05\n"
          ],
          "name": "stdout"
        }
      ]
    },
    {
      "cell_type": "code",
      "metadata": {
        "id": "pwZTPuGY8rWm",
        "colab_type": "code",
        "colab": {
          "base_uri": "https://localhost:8080/",
          "height": 573
        },
        "outputId": "2b6e9085-3a0f-476e-8c01-df5d700c50d5"
      },
      "source": [
        "# Visualise accuracy history\n",
        "plt.plot(history.history['accuracy'])\n",
        "plt.plot(history.history['val_accuracy'])\n",
        "plt.title('model accuracy')\n",
        "plt.ylabel('accuracy')\n",
        "plt.xlabel('epoch')\n",
        "plt.legend(['train', 'test'], loc='upper left')\n",
        "plt.show()\n",
        "\n",
        "# Visualise loss history\n",
        "plt.plot(history.history['loss'])\n",
        "plt.plot(history.history['val_loss'])\n",
        "plt.title('model loss')\n",
        "plt.ylabel('loss')\n",
        "plt.xlabel('epoch')\n",
        "plt.legend(['train', 'test'], loc='upper left')\n",
        "plt.show()"
      ],
      "execution_count": null,
      "outputs": [
        {
          "output_type": "display_data",
          "data": {
            "image/png": "[encoded data removed]",
            "text/plain": [
              "<Figure size 432x288 with 1 Axes>"
            ]
          },
          "metadata": {
            "tags": [],
            "needs_background": "light"
          }
        },
        {
          "output_type": "display_data",
          "data": {
            "image/png": "[encoded data removed]",
            "text/plain": [
              "<Figure size 432x288 with 1 Axes>"
            ]
          },
          "metadata": {
            "tags": [],
            "needs_background": "light"
          }
        }
      ]
    },
    {
      "cell_type": "code",
      "metadata": {
        "id": "qIvbXL32hN48",
        "colab_type": "code",
        "colab": {}
      },
      "source": [
        "# Save model\n",
        "model.save(\"bilinear_xception_model.h5\")"
      ],
      "execution_count": null,
      "outputs": []
    },
    {
      "cell_type": "code",
      "metadata": {
        "id": "WCXE1Nm45huL",
        "colab_type": "code",
        "colab": {
          "base_uri": "https://localhost:8080/",
          "height": 170
        },
        "outputId": "c6f389d1-b684-405d-e69c-b22c5b74dedb"
      },
      "source": [
        "# Evaluate model\n",
        "train_score = model.evaluate(train_generator, verbose=1)\n",
        "print(\"Training loss: \", train_score[0])\n",
        "print(\"Training accuracy: \", train_score[1])\n",
        "\n",
        "validation_score = model.evaluate(validation_generator, verbose=1)\n",
        "print(\"Validation loss: \", validation_score[0])\n",
        "print(\"Validation accuracy: \", validation_score[1])\n",
        "\n",
        "test_score = model.evaluate(test_generator, verbose=1)\n",
        "print(\"Testing loss: \", test_score[0])\n",
        "print(\"Testing accuracy: \", test_score[1])"
      ],
      "execution_count": null,
      "outputs": [
        {
          "output_type": "stream",
          "text": [
            "201/201 [==============================] - 171s 850ms/step - loss: 0.0568 - accuracy: 0.9810\n",
            "Training loss:  0.05682571604847908\n",
            "Training accuracy:  0.9809761643409729\n",
            "27/27 [==============================] - 22s 807ms/step - loss: 0.8572 - accuracy: 0.8318\n",
            "Validation loss:  0.8571750521659851\n",
            "Validation accuracy:  0.8317535519599915\n",
            "844/844 [==============================] - 12s 14ms/step - loss: 0.6663 - accuracy: 0.8590\n",
            "Testing loss:  0.6662805080413818\n",
            "Testing accuracy:  0.8590047359466553\n"
          ],
          "name": "stdout"
        }
      ]
    },
    {
      "cell_type": "code",
      "metadata": {
        "colab_type": "code",
        "id": "ztC3j9zTRyES",
        "colab": {}
      },
      "source": [
        "model_best_weights = model\n",
        "\n",
        "# Load best model weights\n",
        "model_best_weights.load_weights(weights_filepath)\n",
        "\n",
        "# Save model\n",
        "model_best_weights.save(\"bilinear_xception_model_best_weights.h5\")"
      ],
      "execution_count": null,
      "outputs": []
    },
    {
      "cell_type": "code",
      "metadata": {
        "colab_type": "code",
        "id": "Ed6NgxyJR_Ce",
        "colab": {
          "base_uri": "https://localhost:8080/",
          "height": 170
        },
        "outputId": "1c3a48a0-220e-4ea6-b18a-e86a4ff1b22d"
      },
      "source": [
        "# Evaluate model\n",
        "train_score = model_best_weights.evaluate(train_generator, verbose=1)\n",
        "print(\"Training loss: \", train_score[0])\n",
        "print(\"Training accuracy: \", train_score[1])\n",
        "\n",
        "validation_score = model_best_weights.evaluate(validation_generator, verbose=1)\n",
        "print(\"Validation loss: \", validation_score[0])\n",
        "print(\"Validation accuracy: \", validation_score[1])\n",
        "\n",
        "test_score = model_best_weights.evaluate(test_generator, verbose=1)\n",
        "print(\"Testing loss: \", test_score[0])\n",
        "print(\"Testing accuracy: \", test_score[1])"
      ],
      "execution_count": null,
      "outputs": [
        {
          "output_type": "stream",
          "text": [
            "201/201 [==============================] - 171s 852ms/step - loss: 0.0611 - accuracy: 0.9807\n",
            "Training loss:  0.061105962842702866\n",
            "Training accuracy:  0.9806642532348633\n",
            "27/27 [==============================] - 22s 813ms/step - loss: 0.8576 - accuracy: 0.8235\n",
            "Validation loss:  0.8575711250305176\n",
            "Validation accuracy:  0.8234597444534302\n",
            "844/844 [==============================] - 12s 14ms/step - loss: 0.6663 - accuracy: 0.8590\n",
            "Testing loss:  0.6662799715995789\n",
            "Testing accuracy:  0.8590047359466553\n"
          ],
          "name": "stdout"
        }
      ]
    },
    {
      "cell_type": "code",
      "metadata": {
        "id": "5PJ6NpZE8AzV",
        "colab_type": "code",
        "colab": {}
      },
      "source": [
        "# Predict test images\n",
        "predictions = []\n",
        "\n",
        "for filename in test_generator.filenames:\n",
        "    img = load_img(test_dir+filename, target_size=(image_width, image_height))\n",
        "    img = img_to_array(img)/255\n",
        "    img_expand = np.expand_dims(img, axis=0)\n",
        "    predictions.append(model.predict(img_expand)[0])"
      ],
      "execution_count": null,
      "outputs": []
    },
    {
      "cell_type": "code",
      "metadata": {
        "id": "PhHvvZGaHKQ2",
        "colab_type": "code",
        "colab": {}
      },
      "source": [
        "# Get index of largest probability\n",
        "predicted_indices = np.argmax(predictions, axis=1)\n",
        "\n",
        "# Get coin directory name from index \n",
        "directories = dict((v, k) for k, v in train_generator.class_indices.items())\n",
        "predicted_dir = [directories.get(k) for k in predicted_indices]\n",
        "\n",
        "# Get label name from coin directory name\n",
        "with open(data_dir + 'cat_to_name.json', 'r') as json_file:\n",
        "    labels = json.load(json_file)\n",
        "predicted_labels = [labels.get(str(k)) for k in predicted_dir]"
      ],
      "execution_count": null,
      "outputs": []
    },
    {
      "cell_type": "code",
      "metadata": {
        "id": "T4DLt4o3H78s",
        "colab_type": "code",
        "colab": {
          "base_uri": "https://localhost:8080/",
          "height": 204
        },
        "outputId": "c89504c6-30e1-4dfb-c7f2-5787f62dec89"
      },
      "source": [
        "# Save predicted labels as CSV file\n",
        "filenames = test_generator.filenames\n",
        "results = pd.DataFrame({\"Filename\": filenames, \"Predictions\": predicted_labels})\n",
        "results.to_csv(\"bilinear_xception_results.csv\", index=False)\n",
        "results.head()"
      ],
      "execution_count": null,
      "outputs": [
        {
          "output_type": "execute_result",
          "data": {
            "text/html": [
              "<div>\n",
              "<style scoped>\n",
              "    .dataframe tbody tr th:only-of-type {\n",
              "        vertical-align: middle;\n",
              "    }\n",
              "\n",
              "    .dataframe tbody tr th {\n",
              "        vertical-align: top;\n",
              "    }\n",
              "\n",
              "    .dataframe thead th {\n",
              "        text-align: right;\n",
              "    }\n",
              "</style>\n",
              "<table border=\"1\" class=\"dataframe\">\n",
              "  <thead>\n",
              "    <tr style=\"text-align: right;\">\n",
              "      <th></th>\n",
              "      <th>Filename</th>\n",
              "      <th>Predictions</th>\n",
              "    </tr>\n",
              "  </thead>\n",
              "  <tbody>\n",
              "    <tr>\n",
              "      <th>0</th>\n",
              "      <td>1/021__1 Cent_australia.jpg</td>\n",
              "      <td>1 Cent,Australian dollar,australia</td>\n",
              "    </tr>\n",
              "    <tr>\n",
              "      <th>1</th>\n",
              "      <td>1/022__1 Cent_australia.jpg</td>\n",
              "      <td>1 Cent,Australian dollar,australia</td>\n",
              "    </tr>\n",
              "    <tr>\n",
              "      <th>2</th>\n",
              "      <td>1/027__1 Cent_australia.jpg</td>\n",
              "      <td>1 Cent,Australian dollar,australia</td>\n",
              "    </tr>\n",
              "    <tr>\n",
              "      <th>3</th>\n",
              "      <td>1/036__1 Cent_australia.jpg</td>\n",
              "      <td>1 Cent,Australian dollar,australia</td>\n",
              "    </tr>\n",
              "    <tr>\n",
              "      <th>4</th>\n",
              "      <td>10/005__5 Centavos_brazil.jpg</td>\n",
              "      <td>5 Centavos,Brazilian Real,brazil</td>\n",
              "    </tr>\n",
              "  </tbody>\n",
              "</table>\n",
              "</div>"
            ],
            "text/plain": [
              "                        Filename                         Predictions\n",
              "0    1/021__1 Cent_australia.jpg  1 Cent,Australian dollar,australia\n",
              "1    1/022__1 Cent_australia.jpg  1 Cent,Australian dollar,australia\n",
              "2    1/027__1 Cent_australia.jpg  1 Cent,Australian dollar,australia\n",
              "3    1/036__1 Cent_australia.jpg  1 Cent,Australian dollar,australia\n",
              "4  10/005__5 Centavos_brazil.jpg    5 Centavos,Brazilian Real,brazil"
            ]
          },
          "metadata": {
            "tags": []
          },
          "execution_count": 19
        }
      ]
    },
    {
      "cell_type": "markdown",
      "metadata": {
        "id": "BF69Ut9iKmJW",
        "colab_type": "text"
      },
      "source": [
        "# **Convert to TFLite**"
      ]
    },
    {
      "cell_type": "code",
      "metadata": {
        "id": "gEOxwCVQKlpS",
        "colab_type": "code",
        "colab": {
          "base_uri": "https://localhost:8080/",
          "height": 34
        },
        "outputId": "d7efa998-794a-4824-e46e-83b4ee6ee4ab"
      },
      "source": [
        "# Create converter\n",
        "converter = tf.lite.TFLiteConverter.from_keras_model(model)\n",
        "converter.target_spec.supported_ops = [tf.lite.OpsSet.TFLITE_BUILTINS,\n",
        "                                       tf.lite.OpsSet.SELECT_TF_OPS]\n",
        "converter.optimizations = [tf.lite.Optimize.DEFAULT]\n",
        "\n",
        "# Convert the model\n",
        "tflite_model = converter.convert()\n",
        "open(\"bilinear_xception_model.tflite\", \"wb\").write(tflite_model)"
      ],
      "execution_count": null,
      "outputs": [
        {
          "output_type": "execute_result",
          "data": {
            "text/plain": [
              "55904472"
            ]
          },
          "metadata": {
            "tags": []
          },
          "execution_count": 20
        }
      ]
    },
    {
      "cell_type": "markdown",
      "metadata": {
        "id": "gX-yMWB34O4C",
        "colab_type": "text"
      },
      "source": [
        "# **Copy model to Drive**"
      ]
    },
    {
      "cell_type": "code",
      "metadata": {
        "id": "PcyZNaSi4bkN",
        "colab_type": "code",
        "colab": {
          "base_uri": "https://localhost:8080/",
          "height": 122
        },
        "outputId": "fc6d294b-ad02-4669-e5ce-de4863965ac2"
      },
      "source": [
        "drive.mount('/content/drive')\n",
        "!cp bilinear_xception_model.h5 \"/content/drive/My Drive/Bangkit project/models\""
      ],
      "execution_count": null,
      "outputs": [
        {
          "output_type": "stream",
          "text": [
            "Go to this URL in a browser: https://accounts.google.com/o/oauth2/auth?client_id=947318989803-6bn6qk8qdgf4n4g3pfee6491hc0brc4i.apps.googleusercontent.com&redirect_uri=urn%3aietf%3awg%3aoauth%3a2.0%3aoob&response_type=code&scope=email%20https%3a%2f%2fwww.googleapis.com%2fauth%2fdocs.test%20https%3a%2f%2fwww.googleapis.com%2fauth%2fdrive%20https%3a%2f%2fwww.googleapis.com%2fauth%2fdrive.photos.readonly%20https%3a%2f%2fwww.googleapis.com%2fauth%2fpeopleapi.readonly\n",
            "\n",
            "Enter your authorization code:\n",
            "··········\n",
            "Mounted at /content/drive\n"
          ],
          "name": "stdout"
        }
      ]
    }
  ]
}